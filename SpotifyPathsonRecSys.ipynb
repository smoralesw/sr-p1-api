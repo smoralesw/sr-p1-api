{
 "cells": [
  {
   "cell_type": "code",
   "execution_count": 1,
   "metadata": {},
   "outputs": [],
   "source": [
    "%load_ext autoreload\n",
    "%autoreload 2"
   ]
  },
  {
   "cell_type": "code",
   "execution_count": 2,
   "metadata": {},
   "outputs": [],
   "source": [
    "path_to_ml_20m = \"data/spotify/\""
   ]
  },
  {
   "cell_type": "code",
   "execution_count": 95,
   "metadata": {},
   "outputs": [],
   "source": [
    "import os\n",
    "import pandas as pd\n",
    "import numpy as np\n",
    "import networkx as nx\n",
    "import scipy.stats\n",
    "import matplotlib.pyplot as plt\n",
    "import matplotlib\n",
    "import seaborn as sns\n",
    "import itertools\n",
    "import time\n",
    "import umap\n",
    "import paths\n",
    "\n",
    "def plot_pareto2(most_stable, all_stable_paths, save=False):\n",
    "    # stabs = [p[1] for p in most_stable.values()]\n",
    "    # lens = list(most_stable.keys())\n",
    "        \n",
    "    unoptimal_paths = np.array([(n, s[1]) for n, ps in all_stable_paths.items() for s in ps])\n",
    "    optimal_paths = np.array([(n,ps[1]) for n, ps in most_stable.items()])\n",
    "\n",
    "    ax = plt.figure(figsize=(20,10)).gca()  \n",
    "    ax.xaxis.set_major_locator(MaxNLocator(integer=True)) \n",
    "    plt.subplot(111)\n",
    "    \n",
    "    matplotlib.rc('xtick', labelsize=20) \n",
    "    matplotlib.rc('ytick', labelsize=20) \n",
    "\n",
    "    cmap = plt.get_cmap('tab10')\n",
    "    plt.scatter(unoptimal_paths[:,0], unoptimal_paths[:,1], color=cmap(1), label='Nonoptimal paths')\n",
    "    plt.scatter(optimal_paths[:,0], optimal_paths[:,1], label='Optimal paths')\n",
    "    plt.plot(optimal_paths[:,0], optimal_paths[:,1], label='Pareto frontier')\n",
    "\n",
    "\n",
    "    plt.xlabel(\"Length of path\")\n",
    "    plt.ylabel(\"Instability of path\")\n",
    "\n",
    "    plt.legend()\n",
    "    ticks = range(int(min(optimal_paths[:,0])), int(max(optimal_paths[:,0])) + 1)\n",
    "    plt.xticks(ticks)\n",
    "    if save!=False:\n",
    "        plt.savefig(save,)\n",
    "\n",
    "\n",
    "#from cechmate import Cover\n",
    "class BaseFiltration:\n",
    "    def __init__(self, max_dim=3):\n",
    "        \n",
    "        self.max_dim = max_dim\n",
    "        \n",
    "        \n",
    "class Cover(BaseFiltration):\n",
    "    def __init__(self, max_dim):\n",
    "        super().__init__(max_dim)\n",
    "        self.covers = None\n",
    "        self.simplices = None\n",
    "        self.dists = []  \n",
    "    \n",
    "    def build(self, covers):\n",
    "\n",
    "        # Give each cover element a name.\n",
    "        if not isinstance(covers, dict):\n",
    "            covers = dict(enumerate(covers))\n",
    "            \n",
    "        simplices = [([k], 0.0) for k in covers.keys()]\n",
    "        \n",
    "        # TODO: be more intelligent about which combos we check\n",
    "\n",
    "        #Changed self.max_dim+1 to self.max_dim+2. Correct?\n",
    "        for k in range(2, self.max_dim + 2):\n",
    "            for potentials in itertools.combinations(covers.keys(), k):\n",
    "                potential_sets = [covers[p] for p in potentials]\n",
    "\n",
    "                d = self.jaccard(potential_sets)\n",
    "                self.dists.append(d)\n",
    "\n",
    "                # TODO: Do we want to include all of these simplices as well?\n",
    "                if d < 1:\n",
    "                    simplices.append((potentials, d))\n",
    "        \n",
    "        self.covers = covers\n",
    "        self.simplices = simplices\n",
    "        self.d = d\n",
    "        \n",
    "        return simplices\n",
    "\n",
    "    def jaccard(self, covers):\n",
    "        covers_as_sets = list(map(set, covers))\n",
    "        intersection = set.intersection(*covers_as_sets)\n",
    "        union = set.union(*covers_as_sets)\n",
    "\n",
    "        return 1 - len(intersection) / len(union)\n",
    "\n",
    "\n",
    "__all__ = ['Cover']\n",
    "\n",
    "%matplotlib inline\n",
    "\n",
    "pd.options.display.max_rows = 8"
   ]
  },
  {
   "cell_type": "markdown",
   "metadata": {},
   "source": [
    "## Choose 5 particular genres"
   ]
  },
  {
   "cell_type": "code",
   "execution_count": 4,
   "metadata": {},
   "outputs": [
    {
     "data": {
      "text/plain": [
       "\"\\nPossible genres:\\n\\nAction\\nAdventure\\nAnimation\\nChildren's\\nComedy\\nCrime\\nDocumentary\\nDrama\\nFantasy\\nFilm-Noir\\nHorror\\nMusical\\nMystery\\nRomance\\nSci-Fi\\nThriller\\nWar\\nWestern\\n(no genres listed)\\n\""
      ]
     },
     "execution_count": 4,
     "metadata": {},
     "output_type": "execute_result"
    }
   ],
   "source": [
    "\"\"\"\n",
    "Possible genres:\n",
    "\n",
    "Action\n",
    "Adventure\n",
    "Animation\n",
    "Children's\n",
    "Comedy\n",
    "Crime\n",
    "Documentary\n",
    "Drama\n",
    "Fantasy\n",
    "Film-Noir\n",
    "Horror\n",
    "Musical\n",
    "Mystery\n",
    "Romance\n",
    "Sci-Fi\n",
    "Thriller\n",
    "War\n",
    "Western\n",
    "(no genres listed)\n",
    "\"\"\"\n",
    "\n",
    "#MAJOR_CATS = ['Action', 'Drama', 'Comedy', 'Romance', 'Horror']\n",
    "#MAJOR_CATS = ['Adventure', \"Children\", \"Musical\", \"Sci-Fi\", \"Western\"]\n",
    "\n",
    "# BAD_CATS = ['Film-Noir', '(no genre listed)']"
   ]
  },
  {
   "cell_type": "markdown",
   "metadata": {},
   "source": [
    "## Load ratings"
   ]
  },
  {
   "cell_type": "code",
   "execution_count": 5,
   "metadata": {},
   "outputs": [],
   "source": [
    "ratings = pd.read_csv(os.path.join(path_to_ml_20m, \"pls_songs.csv\"), delimiter=\",\")\\\n",
    "            .drop(columns=['order', 'track_uri'])\n"
   ]
  },
  {
   "cell_type": "markdown",
   "metadata": {},
   "source": [
    "## Load movies information"
   ]
  },
  {
   "cell_type": "code",
   "execution_count": 6,
   "metadata": {},
   "outputs": [
    {
     "name": "stdout",
     "output_type": "stream",
     "text": [
      "something\n"
     ]
    }
   ],
   "source": [
    "print('something')"
   ]
  },
  {
   "cell_type": "code",
   "execution_count": 7,
   "metadata": {},
   "outputs": [
    {
     "data": {
      "text/html": [
       "<div>\n",
       "<style scoped>\n",
       "    .dataframe tbody tr th:only-of-type {\n",
       "        vertical-align: middle;\n",
       "    }\n",
       "\n",
       "    .dataframe tbody tr th {\n",
       "        vertical-align: top;\n",
       "    }\n",
       "\n",
       "    .dataframe thead th {\n",
       "        text-align: right;\n",
       "    }\n",
       "</style>\n",
       "<table border=\"1\" class=\"dataframe\">\n",
       "  <thead>\n",
       "    <tr style=\"text-align: right;\">\n",
       "      <th></th>\n",
       "      <th>id</th>\n",
       "      <th>track_uri</th>\n",
       "      <th>track_name</th>\n",
       "      <th>artist_name</th>\n",
       "    </tr>\n",
       "  </thead>\n",
       "  <tbody>\n",
       "    <tr>\n",
       "      <th>0</th>\n",
       "      <td>0</td>\n",
       "      <td>spotify:track:0UaMYEvWZi0ZqiDOoHU3YI</td>\n",
       "      <td>Lose Control (feat. Ciara &amp; Fat Man Scoop)</td>\n",
       "      <td>Missy Elliott</td>\n",
       "    </tr>\n",
       "    <tr>\n",
       "      <th>1</th>\n",
       "      <td>1</td>\n",
       "      <td>spotify:track:6I9VzXrHxO9rA9A5euc8Ak</td>\n",
       "      <td>Toxic</td>\n",
       "      <td>Britney Spears</td>\n",
       "    </tr>\n",
       "    <tr>\n",
       "      <th>2</th>\n",
       "      <td>2</td>\n",
       "      <td>spotify:track:0WqIKmW4BTrj3eJFmnCKMv</td>\n",
       "      <td>Crazy In Love</td>\n",
       "      <td>Beyoncé</td>\n",
       "    </tr>\n",
       "    <tr>\n",
       "      <th>3</th>\n",
       "      <td>3</td>\n",
       "      <td>spotify:track:1AWQoqb9bSvzTjaLralEkT</td>\n",
       "      <td>Rock Your Body</td>\n",
       "      <td>Justin Timberlake</td>\n",
       "    </tr>\n",
       "    <tr>\n",
       "      <th>...</th>\n",
       "      <td>...</td>\n",
       "      <td>...</td>\n",
       "      <td>...</td>\n",
       "      <td>...</td>\n",
       "    </tr>\n",
       "    <tr>\n",
       "      <th>2262288</th>\n",
       "      <td>2262288</td>\n",
       "      <td>spotify:track:1Uo65qTxnCg1N1X00lgcjr</td>\n",
       "      <td>Shalom - Pax217 Album Version</td>\n",
       "      <td>Pax217</td>\n",
       "    </tr>\n",
       "    <tr>\n",
       "      <th>2262289</th>\n",
       "      <td>2262289</td>\n",
       "      <td>spotify:track:5uEE5tii66I0cC7kZ7IMxE</td>\n",
       "      <td>Free To Be - Pax217 Album Version</td>\n",
       "      <td>Pax217</td>\n",
       "    </tr>\n",
       "    <tr>\n",
       "      <th>2262290</th>\n",
       "      <td>2262290</td>\n",
       "      <td>spotify:track:6A1RfnrMdxb24OYllzzTUX</td>\n",
       "      <td>Skwid - Pax217 Album Version</td>\n",
       "      <td>Pax217</td>\n",
       "    </tr>\n",
       "    <tr>\n",
       "      <th>2262291</th>\n",
       "      <td>2262291</td>\n",
       "      <td>spotify:track:5DvykFHB6utG6Hozpt5eNK</td>\n",
       "      <td>Running Thin</td>\n",
       "      <td>Straw Theory</td>\n",
       "    </tr>\n",
       "  </tbody>\n",
       "</table>\n",
       "<p>2262292 rows × 4 columns</p>\n",
       "</div>"
      ],
      "text/plain": [
       "              id                             track_uri  \\\n",
       "0              0  spotify:track:0UaMYEvWZi0ZqiDOoHU3YI   \n",
       "1              1  spotify:track:6I9VzXrHxO9rA9A5euc8Ak   \n",
       "2              2  spotify:track:0WqIKmW4BTrj3eJFmnCKMv   \n",
       "3              3  spotify:track:1AWQoqb9bSvzTjaLralEkT   \n",
       "...          ...                                   ...   \n",
       "2262288  2262288  spotify:track:1Uo65qTxnCg1N1X00lgcjr   \n",
       "2262289  2262289  spotify:track:5uEE5tii66I0cC7kZ7IMxE   \n",
       "2262290  2262290  spotify:track:6A1RfnrMdxb24OYllzzTUX   \n",
       "2262291  2262291  spotify:track:5DvykFHB6utG6Hozpt5eNK   \n",
       "\n",
       "                                         track_name        artist_name  \n",
       "0        Lose Control (feat. Ciara & Fat Man Scoop)      Missy Elliott  \n",
       "1                                             Toxic     Britney Spears  \n",
       "2                                     Crazy In Love            Beyoncé  \n",
       "3                                    Rock Your Body  Justin Timberlake  \n",
       "...                                             ...                ...  \n",
       "2262288               Shalom - Pax217 Album Version             Pax217  \n",
       "2262289           Free To Be - Pax217 Album Version             Pax217  \n",
       "2262290                Skwid - Pax217 Album Version             Pax217  \n",
       "2262291                                Running Thin       Straw Theory  \n",
       "\n",
       "[2262292 rows x 4 columns]"
      ]
     },
     "execution_count": 7,
     "metadata": {},
     "output_type": "execute_result"
    }
   ],
   "source": [
    "movie_info = pd.read_csv(os.path.join(path_to_ml_20m, \"tracks.csv\"), delimiter=\",\")\n",
    "movie_info"
   ]
  },
  {
   "cell_type": "code",
   "execution_count": 8,
   "metadata": {},
   "outputs": [],
   "source": [
    "movie_info = movie_info.dropna()"
   ]
  },
  {
   "cell_type": "code",
   "execution_count": 9,
   "metadata": {},
   "outputs": [
    {
     "data": {
      "text/html": [
       "<div>\n",
       "<style scoped>\n",
       "    .dataframe tbody tr th:only-of-type {\n",
       "        vertical-align: middle;\n",
       "    }\n",
       "\n",
       "    .dataframe tbody tr th {\n",
       "        vertical-align: top;\n",
       "    }\n",
       "\n",
       "    .dataframe thead th {\n",
       "        text-align: right;\n",
       "    }\n",
       "</style>\n",
       "<table border=\"1\" class=\"dataframe\">\n",
       "  <thead>\n",
       "    <tr style=\"text-align: right;\">\n",
       "      <th></th>\n",
       "      <th>id</th>\n",
       "      <th>track_uri</th>\n",
       "      <th>track_name</th>\n",
       "      <th>artist_name</th>\n",
       "    </tr>\n",
       "  </thead>\n",
       "  <tbody>\n",
       "    <tr>\n",
       "      <th>1064</th>\n",
       "      <td>1064</td>\n",
       "      <td>spotify:track:7qiZfU4dY1lWllzX7mPBI3</td>\n",
       "      <td>Shape of You</td>\n",
       "      <td>Ed Sheeran</td>\n",
       "    </tr>\n",
       "    <tr>\n",
       "      <th>1662</th>\n",
       "      <td>1662</td>\n",
       "      <td>spotify:track:5H7CwzYZ60e7w69tX4ivQN</td>\n",
       "      <td>Shape of You - Galantis Remix</td>\n",
       "      <td>Ed Sheeran</td>\n",
       "    </tr>\n",
       "    <tr>\n",
       "      <th>29917</th>\n",
       "      <td>29917</td>\n",
       "      <td>spotify:track:1KqvRRQd3lfM0pAlkGPrgD</td>\n",
       "      <td>Shape of You (Major Lazer Remix) [feat. Nyla &amp;...</td>\n",
       "      <td>Ed Sheeran</td>\n",
       "    </tr>\n",
       "    <tr>\n",
       "      <th>67721</th>\n",
       "      <td>67721</td>\n",
       "      <td>spotify:track:5nCtCCB5i1OfbADvynNw0i</td>\n",
       "      <td>Shape of You (Latin Remix) [feat. Zion &amp; Lennox]</td>\n",
       "      <td>Ed Sheeran</td>\n",
       "    </tr>\n",
       "    <tr>\n",
       "      <th>...</th>\n",
       "      <td>...</td>\n",
       "      <td>...</td>\n",
       "      <td>...</td>\n",
       "      <td>...</td>\n",
       "    </tr>\n",
       "    <tr>\n",
       "      <th>2092207</th>\n",
       "      <td>2092207</td>\n",
       "      <td>spotify:track:0v2WItKxInx9szDEBVwDri</td>\n",
       "      <td>Shape of You (Ultimate Mashup): One Dance / Th...</td>\n",
       "      <td>against the crowds</td>\n",
       "    </tr>\n",
       "    <tr>\n",
       "      <th>2152319</th>\n",
       "      <td>2152319</td>\n",
       "      <td>spotify:track:3qKmYSGjmDal87MSccmlge</td>\n",
       "      <td>Shape of You</td>\n",
       "      <td>Alexa Goddard</td>\n",
       "    </tr>\n",
       "    <tr>\n",
       "      <th>2210857</th>\n",
       "      <td>2210857</td>\n",
       "      <td>spotify:track:2QN0g3afGilgifTG9CHgUx</td>\n",
       "      <td>Shape of You</td>\n",
       "      <td>Like Ghosts</td>\n",
       "    </tr>\n",
       "    <tr>\n",
       "      <th>2244755</th>\n",
       "      <td>2244755</td>\n",
       "      <td>spotify:track:0EcwTOpCLiXl5Ks3VeeovZ</td>\n",
       "      <td>Shape of You - Reggae Version</td>\n",
       "      <td>Groove Da Praia</td>\n",
       "    </tr>\n",
       "  </tbody>\n",
       "</table>\n",
       "<p>118 rows × 4 columns</p>\n",
       "</div>"
      ],
      "text/plain": [
       "              id                             track_uri  \\\n",
       "1064        1064  spotify:track:7qiZfU4dY1lWllzX7mPBI3   \n",
       "1662        1662  spotify:track:5H7CwzYZ60e7w69tX4ivQN   \n",
       "29917      29917  spotify:track:1KqvRRQd3lfM0pAlkGPrgD   \n",
       "67721      67721  spotify:track:5nCtCCB5i1OfbADvynNw0i   \n",
       "...          ...                                   ...   \n",
       "2092207  2092207  spotify:track:0v2WItKxInx9szDEBVwDri   \n",
       "2152319  2152319  spotify:track:3qKmYSGjmDal87MSccmlge   \n",
       "2210857  2210857  spotify:track:2QN0g3afGilgifTG9CHgUx   \n",
       "2244755  2244755  spotify:track:0EcwTOpCLiXl5Ks3VeeovZ   \n",
       "\n",
       "                                                track_name         artist_name  \n",
       "1064                                          Shape of You          Ed Sheeran  \n",
       "1662                         Shape of You - Galantis Remix          Ed Sheeran  \n",
       "29917    Shape of You (Major Lazer Remix) [feat. Nyla &...          Ed Sheeran  \n",
       "67721     Shape of You (Latin Remix) [feat. Zion & Lennox]          Ed Sheeran  \n",
       "...                                                    ...                 ...  \n",
       "2092207  Shape of You (Ultimate Mashup): One Dance / Th...  against the crowds  \n",
       "2152319                                       Shape of You       Alexa Goddard  \n",
       "2210857                                       Shape of You         Like Ghosts  \n",
       "2244755                      Shape of You - Reggae Version     Groove Da Praia  \n",
       "\n",
       "[118 rows x 4 columns]"
      ]
     },
     "execution_count": 9,
     "metadata": {},
     "output_type": "execute_result"
    }
   ],
   "source": [
    "movie_info.loc[movie_info.track_name.str.contains(\"Shape of You\")]"
   ]
  },
  {
   "cell_type": "code",
   "execution_count": 10,
   "metadata": {},
   "outputs": [
    {
     "data": {
      "text/html": [
       "<div>\n",
       "<style scoped>\n",
       "    .dataframe tbody tr th:only-of-type {\n",
       "        vertical-align: middle;\n",
       "    }\n",
       "\n",
       "    .dataframe tbody tr th {\n",
       "        vertical-align: top;\n",
       "    }\n",
       "\n",
       "    .dataframe thead th {\n",
       "        text-align: right;\n",
       "    }\n",
       "</style>\n",
       "<table border=\"1\" class=\"dataframe\">\n",
       "  <thead>\n",
       "    <tr style=\"text-align: right;\">\n",
       "      <th></th>\n",
       "      <th>id</th>\n",
       "      <th>track_uri</th>\n",
       "      <th>track_name</th>\n",
       "      <th>artist_name</th>\n",
       "    </tr>\n",
       "  </thead>\n",
       "  <tbody>\n",
       "    <tr>\n",
       "      <th>26938</th>\n",
       "      <td>26938</td>\n",
       "      <td>spotify:track:1FzbUxPXtF7q9M5Q7q49Gk</td>\n",
       "      <td>Work - Bad Royale Remix</td>\n",
       "      <td>Rihanna</td>\n",
       "    </tr>\n",
       "    <tr>\n",
       "      <th>87103</th>\n",
       "      <td>87103</td>\n",
       "      <td>spotify:track:4HHIVS7mHAXqXVebo3k5Um</td>\n",
       "      <td>You Know My Name - From \"Casino Royale\" Soundt...</td>\n",
       "      <td>Chris Cornell</td>\n",
       "    </tr>\n",
       "    <tr>\n",
       "      <th>93889</th>\n",
       "      <td>93889</td>\n",
       "      <td>spotify:track:3DsuPfINKQKK6JnM8USOJN</td>\n",
       "      <td>Calm Down - Bad Royale Remix</td>\n",
       "      <td>Skip Marley</td>\n",
       "    </tr>\n",
       "    <tr>\n",
       "      <th>98144</th>\n",
       "      <td>98144</td>\n",
       "      <td>spotify:track:2djMHt15r92lGDg1bBMzJN</td>\n",
       "      <td>Cattle Royale</td>\n",
       "      <td>Lyk</td>\n",
       "    </tr>\n",
       "    <tr>\n",
       "      <th>...</th>\n",
       "      <td>...</td>\n",
       "      <td>...</td>\n",
       "      <td>...</td>\n",
       "      <td>...</td>\n",
       "    </tr>\n",
       "    <tr>\n",
       "      <th>2185763</th>\n",
       "      <td>2185763</td>\n",
       "      <td>spotify:track:4Ej6iGlyo8wdZZtIvWJPJt</td>\n",
       "      <td>Depression Royale</td>\n",
       "      <td>De-Phazz</td>\n",
       "    </tr>\n",
       "    <tr>\n",
       "      <th>2194707</th>\n",
       "      <td>2194707</td>\n",
       "      <td>spotify:track:3D3yYanxubc43CA6kVYNcd</td>\n",
       "      <td>Dynamo Royale</td>\n",
       "      <td>Dynamo Productions</td>\n",
       "    </tr>\n",
       "    <tr>\n",
       "      <th>2225907</th>\n",
       "      <td>2225907</td>\n",
       "      <td>spotify:track:2mTmPKk4QvLsQHHzluLoYZ</td>\n",
       "      <td>Helicopter - Bad Royale Remix</td>\n",
       "      <td>TWRK</td>\n",
       "    </tr>\n",
       "    <tr>\n",
       "      <th>2240474</th>\n",
       "      <td>2240474</td>\n",
       "      <td>spotify:track:4FAUqBdLBCC0R0W4O7WOtF</td>\n",
       "      <td>Casino Royale - You Know My Name</td>\n",
       "      <td>The City of Prague Philharmonic Orchestra</td>\n",
       "    </tr>\n",
       "  </tbody>\n",
       "</table>\n",
       "<p>91 rows × 4 columns</p>\n",
       "</div>"
      ],
      "text/plain": [
       "              id                             track_uri  \\\n",
       "26938      26938  spotify:track:1FzbUxPXtF7q9M5Q7q49Gk   \n",
       "87103      87103  spotify:track:4HHIVS7mHAXqXVebo3k5Um   \n",
       "93889      93889  spotify:track:3DsuPfINKQKK6JnM8USOJN   \n",
       "98144      98144  spotify:track:2djMHt15r92lGDg1bBMzJN   \n",
       "...          ...                                   ...   \n",
       "2185763  2185763  spotify:track:4Ej6iGlyo8wdZZtIvWJPJt   \n",
       "2194707  2194707  spotify:track:3D3yYanxubc43CA6kVYNcd   \n",
       "2225907  2225907  spotify:track:2mTmPKk4QvLsQHHzluLoYZ   \n",
       "2240474  2240474  spotify:track:4FAUqBdLBCC0R0W4O7WOtF   \n",
       "\n",
       "                                                track_name  \\\n",
       "26938                              Work - Bad Royale Remix   \n",
       "87103    You Know My Name - From \"Casino Royale\" Soundt...   \n",
       "93889                         Calm Down - Bad Royale Remix   \n",
       "98144                                        Cattle Royale   \n",
       "...                                                    ...   \n",
       "2185763                                  Depression Royale   \n",
       "2194707                                      Dynamo Royale   \n",
       "2225907                      Helicopter - Bad Royale Remix   \n",
       "2240474                   Casino Royale - You Know My Name   \n",
       "\n",
       "                                       artist_name  \n",
       "26938                                      Rihanna  \n",
       "87103                                Chris Cornell  \n",
       "93889                                  Skip Marley  \n",
       "98144                                          Lyk  \n",
       "...                                            ...  \n",
       "2185763                                   De-Phazz  \n",
       "2194707                         Dynamo Productions  \n",
       "2225907                                       TWRK  \n",
       "2240474  The City of Prague Philharmonic Orchestra  \n",
       "\n",
       "[91 rows x 4 columns]"
      ]
     },
     "execution_count": 10,
     "metadata": {},
     "output_type": "execute_result"
    }
   ],
   "source": [
    "movie_info.loc[movie_info.track_name.str.contains(\"Royale\")]"
   ]
  },
  {
   "cell_type": "code",
   "execution_count": 11,
   "metadata": {},
   "outputs": [
    {
     "data": {
      "text/plain": [
       "'\"\\n\\ntransformers = 53996\\nnotebook = 8533\\nprincess = 1197\\n\\ndarko = 4878\\nchainsaw = 6880\\n\\nmulan = 1907 \\nrouge = 4308\\n'"
      ]
     },
     "execution_count": 11,
     "metadata": {},
     "output_type": "execute_result"
    }
   ],
   "source": [
    "toxic = 1\n",
    "toxicity = 2516\n",
    "thriller = 304\n",
    "\n",
    "carryonmywayward = 74\n",
    "bohemian = 75\n",
    "\n",
    "helpbeatles = 475\n",
    "shapeofu= 1064\n",
    "\n",
    "\"\"\"\"\n",
    "\n",
    "transformers = 53996\n",
    "notebook = 8533\n",
    "princess = 1197\n",
    "\n",
    "darko = 4878\n",
    "chainsaw = 6880\n",
    "\n",
    "mulan = 1907 \n",
    "rouge = 4308\n",
    "\"\"\" "
   ]
  },
  {
   "cell_type": "markdown",
   "metadata": {},
   "source": [
    "- Toxic -> Toxicity\n",
    "- Toxicity -> Bolero..."
   ]
  },
  {
   "cell_type": "markdown",
   "metadata": {},
   "source": [
    "- Transformers $\\to$ The Notebook \n",
    "- The Princess Bride $\\to$ Donnie Darko\n",
    "- Texas Chainsaw Massacre $\\to$ Mulan\n",
    "- Mulan $\\to$ Moulin Rouge"
   ]
  },
  {
   "cell_type": "markdown",
   "metadata": {},
   "source": [
    "## Filter movies to only particular subset"
   ]
  },
  {
   "cell_type": "markdown",
   "metadata": {},
   "source": [
    "- filter out lots of movies that won't matter \n",
    "- ones that only have a few ratings\n",
    "\n",
    "\n"
   ]
  },
  {
   "cell_type": "code",
   "execution_count": null,
   "metadata": {},
   "outputs": [],
   "source": []
  },
  {
   "cell_type": "code",
   "execution_count": 187,
   "metadata": {},
   "outputs": [
    {
     "data": {
      "image/png": "[encoded data removed]",
      "text/plain": [
       "<Figure size 432x288 with 1 Axes>"
      ]
     },
     "metadata": {
      "needs_background": "light"
     },
     "output_type": "display_data"
    }
   ],
   "source": [
    "%%time\n",
    "movies = ratings.groupby('id')\n",
    "\n",
    "movies_map = {name: list(group.pid) for name, group in movies}\n",
    "movies_ratings_n = [len(m) for m in movies_map.values()]\n"
   ]
  },
  {
   "cell_type": "code",
   "execution_count": 20,
   "metadata": {},
   "outputs": [
    {
     "data": {
      "text/plain": [
       "2262292"
      ]
     },
     "execution_count": 20,
     "metadata": {},
     "output_type": "execute_result"
    }
   ],
   "source": [
    "len(movies)"
   ]
  },
  {
   "cell_type": "code",
   "execution_count": 24,
   "metadata": {},
   "outputs": [
    {
     "data": {
      "text/plain": [
       "13205"
      ]
     },
     "execution_count": 24,
     "metadata": {},
     "output_type": "execute_result"
    }
   ],
   "source": [
    "movies_ratings_n[1]"
   ]
  },
  {
   "cell_type": "code",
   "execution_count": 13,
   "metadata": {},
   "outputs": [
    {
     "data": {
      "text/plain": [
       "2262292"
      ]
     },
     "execution_count": 13,
     "metadata": {},
     "output_type": "execute_result"
    }
   ],
   "source": [
    "len(movies_ratings_n)"
   ]
  },
  {
   "cell_type": "code",
   "execution_count": 19,
   "metadata": {},
   "outputs": [
    {
     "name": "stdout",
     "output_type": "stream",
     "text": [
      "2262292\n",
      "1188873\n"
     ]
    }
   ],
   "source": [
    "print(len(movies_ratings_n))\n",
    "print(len([n for n in movies_ratings_n if n >= 2]))"
   ]
  },
  {
   "cell_type": "code",
   "execution_count": 158,
   "metadata": {},
   "outputs": [
    {
     "name": "stdout",
     "output_type": "stream",
     "text": [
      "Wall time: 1.39 s\n"
     ]
    }
   ],
   "source": [
    "%%time\n",
    "slim_movies_map = {name: ls for name, ls in movies_map.items() if len(ls) >= 3}\n",
    "\n",
    "toxic = 1\n",
    "toxicity = 2516\n",
    "thriller = 304\n",
    "\n",
    "carryonmywayward = 74\n",
    "bohemian = 75\n",
    "\n",
    "helpbeatles = 475\n",
    "shapeofu = 1064\n",
    "\n",
    "\n",
    "good_movies = [toxic, toxicity,thriller, carryonmywayward,bohemian, helpbeatles,shapeofu]\n",
    "np.random.seed(1)\n",
    "\n",
    "rate = 800 / len(movies_map)\n",
    "slimer_movies_map = {name: ls for name, ls in movies_map.items() \n",
    "                     if np.random.random() <= rate or name in good_movies}"
   ]
  },
  {
   "cell_type": "code",
   "execution_count": 159,
   "metadata": {},
   "outputs": [
    {
     "data": {
      "text/plain": [
       "2262292"
      ]
     },
     "execution_count": 159,
     "metadata": {},
     "output_type": "execute_result"
    }
   ],
   "source": [
    "len(movies_map)"
   ]
  },
  {
   "cell_type": "code",
   "execution_count": 160,
   "metadata": {},
   "outputs": [
    {
     "name": "stdout",
     "output_type": "stream",
     "text": [
      "0.00035362367015398543\n"
     ]
    }
   ],
   "source": [
    "print(rate)"
   ]
  },
  {
   "cell_type": "code",
   "execution_count": 161,
   "metadata": {},
   "outputs": [
    {
     "data": {
      "text/plain": [
       "834"
      ]
     },
     "execution_count": 161,
     "metadata": {},
     "output_type": "execute_result"
    }
   ],
   "source": [
    "len(slimer_movies_map)"
   ]
  },
  {
   "cell_type": "code",
   "execution_count": 157,
   "metadata": {},
   "outputs": [
    {
     "data": {
      "text/plain": [
       "0.0004420295876924818"
      ]
     },
     "execution_count": 157,
     "metadata": {},
     "output_type": "execute_result"
    }
   ],
   "source": [
    "1000. / len(movies_map)"
   ]
  },
  {
   "cell_type": "code",
   "execution_count": null,
   "metadata": {},
   "outputs": [],
   "source": []
  },
  {
   "cell_type": "code",
   "execution_count": 47,
   "metadata": {},
   "outputs": [
    {
     "name": "stdout",
     "output_type": "stream",
     "text": [
      "Wall time: 0 ns\n"
     ]
    }
   ],
   "source": [
    "%%time\n",
    "for m in good_movies:\n",
    "    assert m in slimer_movies_map.keys()"
   ]
  },
  {
   "cell_type": "code",
   "execution_count": 48,
   "metadata": {},
   "outputs": [
    {
     "data": {
      "text/plain": [
       "\"\\n%%time\\nfilt = lambda x: '|'.join(set(x.split('|')).intersection(MAJOR_CATS))\\nisin = lambda x: len(set(x.split('|')).intersection(MAJOR_CATS)) > 0\\ndef get_year(x):\\n    try:\\n        return int(x.strip()[-6:][1:-1])\\n    except:\\n        return 1\\n\\n\\nmovie_info['year'] = movie_info['title'].apply(get_year)\\n\\n# movie_info = movie_info[movie_info['year'] > 2000]\\n# movie_info['major_cat'] = movie_info['genres'].apply(isin)\\n# movie_info['genres'] = movie_info['genr es'].apply(filt)\\n# movie_info = movie_info[movie_info['major_cat'] == True]\\nmovie_info\\n\""
      ]
     },
     "execution_count": 48,
     "metadata": {},
     "output_type": "execute_result"
    }
   ],
   "source": [
    "\"\"\"\n",
    "%%time\n",
    "filt = lambda x: '|'.join(set(x.split('|')).intersection(MAJOR_CATS))\n",
    "isin = lambda x: len(set(x.split('|')).intersection(MAJOR_CATS)) > 0\n",
    "def get_year(x):\n",
    "    try:\n",
    "        return int(x.strip()[-6:][1:-1])\n",
    "    except:\n",
    "        return 1\n",
    "\n",
    "\n",
    "movie_info['year'] = movie_info['title'].apply(get_year)\n",
    "\n",
    "# movie_info = movie_info[movie_info['year'] > 2000]\n",
    "# movie_info['major_cat'] = movie_info['genres'].apply(isin)\n",
    "# movie_info['genres'] = movie_info['genr es'].apply(filt)\n",
    "# movie_info = movie_info[movie_info['major_cat'] == True]\n",
    "movie_info\n",
    "\"\"\""
   ]
  },
  {
   "cell_type": "markdown",
   "metadata": {},
   "source": [
    "## Sample only middle percentile of movie and user\n",
    "\n",
    "based on number of users rating each movie, and number of movies each user rates."
   ]
  },
  {
   "cell_type": "code",
   "execution_count": 49,
   "metadata": {},
   "outputs": [
    {
     "data": {
      "text/html": [
       "<div>\n",
       "<style scoped>\n",
       "    .dataframe tbody tr th:only-of-type {\n",
       "        vertical-align: middle;\n",
       "    }\n",
       "\n",
       "    .dataframe tbody tr th {\n",
       "        vertical-align: top;\n",
       "    }\n",
       "\n",
       "    .dataframe thead th {\n",
       "        text-align: right;\n",
       "    }\n",
       "</style>\n",
       "<table border=\"1\" class=\"dataframe\">\n",
       "  <thead>\n",
       "    <tr style=\"text-align: right;\">\n",
       "      <th></th>\n",
       "      <th>pid</th>\n",
       "      <th>id</th>\n",
       "    </tr>\n",
       "  </thead>\n",
       "  <tbody>\n",
       "    <tr>\n",
       "      <th>0</th>\n",
       "      <td>0</td>\n",
       "      <td>0</td>\n",
       "    </tr>\n",
       "    <tr>\n",
       "      <th>1</th>\n",
       "      <td>0</td>\n",
       "      <td>1</td>\n",
       "    </tr>\n",
       "    <tr>\n",
       "      <th>2</th>\n",
       "      <td>0</td>\n",
       "      <td>2</td>\n",
       "    </tr>\n",
       "    <tr>\n",
       "      <th>3</th>\n",
       "      <td>0</td>\n",
       "      <td>3</td>\n",
       "    </tr>\n",
       "    <tr>\n",
       "      <th>...</th>\n",
       "      <td>...</td>\n",
       "      <td>...</td>\n",
       "    </tr>\n",
       "    <tr>\n",
       "      <th>66346424</th>\n",
       "      <td>999999</td>\n",
       "      <td>288294</td>\n",
       "    </tr>\n",
       "    <tr>\n",
       "      <th>66346425</th>\n",
       "      <td>999999</td>\n",
       "      <td>141054</td>\n",
       "    </tr>\n",
       "    <tr>\n",
       "      <th>66346426</th>\n",
       "      <td>999999</td>\n",
       "      <td>141039</td>\n",
       "    </tr>\n",
       "    <tr>\n",
       "      <th>66346427</th>\n",
       "      <td>999999</td>\n",
       "      <td>72395</td>\n",
       "    </tr>\n",
       "  </tbody>\n",
       "</table>\n",
       "<p>66346428 rows × 2 columns</p>\n",
       "</div>"
      ],
      "text/plain": [
       "             pid      id\n",
       "0              0       0\n",
       "1              0       1\n",
       "2              0       2\n",
       "3              0       3\n",
       "...          ...     ...\n",
       "66346424  999999  288294\n",
       "66346425  999999  141054\n",
       "66346426  999999  141039\n",
       "66346427  999999   72395\n",
       "\n",
       "[66346428 rows x 2 columns]"
      ]
     },
     "execution_count": 49,
     "metadata": {},
     "output_type": "execute_result"
    }
   ],
   "source": [
    "ratings"
   ]
  },
  {
   "cell_type": "code",
   "execution_count": 50,
   "metadata": {},
   "outputs": [
    {
     "data": {
      "text/html": [
       "<div>\n",
       "<style scoped>\n",
       "    .dataframe tbody tr th:only-of-type {\n",
       "        vertical-align: middle;\n",
       "    }\n",
       "\n",
       "    .dataframe tbody tr th {\n",
       "        vertical-align: top;\n",
       "    }\n",
       "\n",
       "    .dataframe thead th {\n",
       "        text-align: right;\n",
       "    }\n",
       "</style>\n",
       "<table border=\"1\" class=\"dataframe\">\n",
       "  <thead>\n",
       "    <tr style=\"text-align: right;\">\n",
       "      <th></th>\n",
       "      <th>id</th>\n",
       "      <th>track_uri</th>\n",
       "      <th>track_name</th>\n",
       "      <th>artist_name</th>\n",
       "    </tr>\n",
       "  </thead>\n",
       "  <tbody>\n",
       "    <tr>\n",
       "      <th>0</th>\n",
       "      <td>0</td>\n",
       "      <td>spotify:track:0UaMYEvWZi0ZqiDOoHU3YI</td>\n",
       "      <td>Lose Control (feat. Ciara &amp; Fat Man Scoop)</td>\n",
       "      <td>Missy Elliott</td>\n",
       "    </tr>\n",
       "    <tr>\n",
       "      <th>1</th>\n",
       "      <td>1</td>\n",
       "      <td>spotify:track:6I9VzXrHxO9rA9A5euc8Ak</td>\n",
       "      <td>Toxic</td>\n",
       "      <td>Britney Spears</td>\n",
       "    </tr>\n",
       "    <tr>\n",
       "      <th>2</th>\n",
       "      <td>2</td>\n",
       "      <td>spotify:track:0WqIKmW4BTrj3eJFmnCKMv</td>\n",
       "      <td>Crazy In Love</td>\n",
       "      <td>Beyoncé</td>\n",
       "    </tr>\n",
       "    <tr>\n",
       "      <th>3</th>\n",
       "      <td>3</td>\n",
       "      <td>spotify:track:1AWQoqb9bSvzTjaLralEkT</td>\n",
       "      <td>Rock Your Body</td>\n",
       "      <td>Justin Timberlake</td>\n",
       "    </tr>\n",
       "    <tr>\n",
       "      <th>...</th>\n",
       "      <td>...</td>\n",
       "      <td>...</td>\n",
       "      <td>...</td>\n",
       "      <td>...</td>\n",
       "    </tr>\n",
       "    <tr>\n",
       "      <th>2262288</th>\n",
       "      <td>2262288</td>\n",
       "      <td>spotify:track:1Uo65qTxnCg1N1X00lgcjr</td>\n",
       "      <td>Shalom - Pax217 Album Version</td>\n",
       "      <td>Pax217</td>\n",
       "    </tr>\n",
       "    <tr>\n",
       "      <th>2262289</th>\n",
       "      <td>2262289</td>\n",
       "      <td>spotify:track:5uEE5tii66I0cC7kZ7IMxE</td>\n",
       "      <td>Free To Be - Pax217 Album Version</td>\n",
       "      <td>Pax217</td>\n",
       "    </tr>\n",
       "    <tr>\n",
       "      <th>2262290</th>\n",
       "      <td>2262290</td>\n",
       "      <td>spotify:track:6A1RfnrMdxb24OYllzzTUX</td>\n",
       "      <td>Skwid - Pax217 Album Version</td>\n",
       "      <td>Pax217</td>\n",
       "    </tr>\n",
       "    <tr>\n",
       "      <th>2262291</th>\n",
       "      <td>2262291</td>\n",
       "      <td>spotify:track:5DvykFHB6utG6Hozpt5eNK</td>\n",
       "      <td>Running Thin</td>\n",
       "      <td>Straw Theory</td>\n",
       "    </tr>\n",
       "  </tbody>\n",
       "</table>\n",
       "<p>2262281 rows × 4 columns</p>\n",
       "</div>"
      ],
      "text/plain": [
       "              id                             track_uri  \\\n",
       "0              0  spotify:track:0UaMYEvWZi0ZqiDOoHU3YI   \n",
       "1              1  spotify:track:6I9VzXrHxO9rA9A5euc8Ak   \n",
       "2              2  spotify:track:0WqIKmW4BTrj3eJFmnCKMv   \n",
       "3              3  spotify:track:1AWQoqb9bSvzTjaLralEkT   \n",
       "...          ...                                   ...   \n",
       "2262288  2262288  spotify:track:1Uo65qTxnCg1N1X00lgcjr   \n",
       "2262289  2262289  spotify:track:5uEE5tii66I0cC7kZ7IMxE   \n",
       "2262290  2262290  spotify:track:6A1RfnrMdxb24OYllzzTUX   \n",
       "2262291  2262291  spotify:track:5DvykFHB6utG6Hozpt5eNK   \n",
       "\n",
       "                                         track_name        artist_name  \n",
       "0        Lose Control (feat. Ciara & Fat Man Scoop)      Missy Elliott  \n",
       "1                                             Toxic     Britney Spears  \n",
       "2                                     Crazy In Love            Beyoncé  \n",
       "3                                    Rock Your Body  Justin Timberlake  \n",
       "...                                             ...                ...  \n",
       "2262288               Shalom - Pax217 Album Version             Pax217  \n",
       "2262289           Free To Be - Pax217 Album Version             Pax217  \n",
       "2262290                Skwid - Pax217 Album Version             Pax217  \n",
       "2262291                                Running Thin       Straw Theory  \n",
       "\n",
       "[2262281 rows x 4 columns]"
      ]
     },
     "execution_count": 50,
     "metadata": {},
     "output_type": "execute_result"
    }
   ],
   "source": [
    "movie_info"
   ]
  },
  {
   "cell_type": "code",
   "execution_count": 421,
   "metadata": {},
   "outputs": [
    {
     "name": "stdout",
     "output_type": "stream",
     "text": [
      "Wall time: 5.98 ms\n"
     ]
    }
   ],
   "source": [
    "%%time\n",
    "def sample_middle_movies(ratings, lower=0.5, upper=0.95):\n",
    "    \"\"\" Sample just middle percentiles of movies\n",
    "    \n",
    "    \"\"\"\n",
    "    movies = ratings.groupby('id')\n",
    "    movies_map = {name: list(group.pid) for name, group in movies}\n",
    "\n",
    "    movies_ratings_n = [len(m) for m in movies_map.values()]\n",
    "    lower_bound, upper_bound = pd.Series(movies_ratings_n).quantile([lower, upper]).values\n",
    "    print(f\"Remove movies with # ratings <= {lower_bound} and # ratings >= {upper_bound}\")\n",
    "\n",
    "    movies_map = {name: mlist for name, mlist in movies_map.items() if lower_bound <= len(mlist) <= upper_bound}\n",
    "    print(f\"Was {len(movies_ratings_n)}, now {len(movies_map)} movies in the range.\")\n",
    "    \n",
    "    return movies_map\n",
    "\n",
    "def sample_middle_users(lower=0.6, upper=0.95):\n",
    "    \"\"\" sample middle percentiles of users\n",
    "    \n",
    "    \"\"\"\n",
    "    users = ratings.groupby('pid')\n",
    "    users_map = {name: list(group.id) for name, group in users}\n",
    "\n",
    "    users_ratings_n = [len(m) for m in users_map.values()]\n",
    "    lower_bound, upper_bound = pd.Series(users_ratings_n).quantile([lower, upper]).values\n",
    "    print(f\"Remove movies with # ratings <= {lower_bound} and # ratings >= {upper_bound}\")\n",
    "\n",
    "    users_map = {name: ulist for name, ulist in users_map.items() if lower_bound <= len(ulist) <= upper_bound}\n",
    "    print(f\"Was {len(users_ratings_n)}, now {len(users_map)} users in the range.\")\n",
    "    \n",
    "    return users_map\n",
    "\n",
    "def particular_movies_sample(ratings, n=15000):\n",
    "    \n",
    "    # limit to only middle percentile users \n",
    "    users_map = sample_middle_users()\n",
    "    ok_users = list(users_map.keys())\n",
    "    sub_ratings = ratings[(ratings['id'].isin(ok_users))]\n",
    "    \n",
    "    # Filter only particular movies\n",
    "    print(f\"--{len(sub_ratings)} movie reviews after filtering users\")\n",
    "    sub_ratings = sub_ratings[sub_ratings['id'].isin(movie_info.id)]\n",
    "    print(f\"--{len(sub_ratings)} movie reviews after filtering good movies\")\n",
    "    \n",
    "    # Get movies with middle percentiles          \n",
    "    movies_map = sample_middle_movies(sub_ratings)\n",
    "    print(len(movies_map))\n",
    "    print(\"Sample movies\")\n",
    "    rate = n / len(movies_map)\n",
    "    print(rate)\n",
    "    # then randomly sample the movies\n",
    "    np.random.seed(1)\n",
    "    movies_map = {m:l for m,l in movies_map.items() if np.random.random() <= rate}\n",
    "    \n",
    "    print(f\"Resulting dataset has {len(movies_map)} movies\")\n",
    "    return movies_map"
   ]
  },
  {
   "cell_type": "code",
   "execution_count": 422,
   "metadata": {},
   "outputs": [
    {
     "name": "stdout",
     "output_type": "stream",
     "text": [
      "Remove movies with # ratings <= 62.0 and # ratings >= 184.0\n",
      "Was 1000000, now 355415 users in the range.\n",
      "--23111660 movie reviews after filtering users\n",
      "--23111660 movie reviews after filtering good movies\n",
      "Remove movies with # ratings <= 5.0 and # ratings >= 155.0\n",
      "Was 355415, now 172278 movies in the range.\n",
      "172278\n",
      "Sample movies\n",
      "0.08706857520983527\n",
      "Resulting dataset has 15183 movies\n",
      "Wall time: 7min 27s\n"
     ]
    }
   ],
   "source": [
    "%%time\n",
    "movies_map = particular_movies_sample(ratings) #comentada de antes"
   ]
  },
  {
   "cell_type": "markdown",
   "metadata": {},
   "source": [
    "## Build cover and filtration from selected movies"
   ]
  },
  {
   "cell_type": "code",
   "execution_count": 423,
   "metadata": {},
   "outputs": [
    {
     "data": {
      "text/plain": [
       "15183"
      ]
     },
     "execution_count": 423,
     "metadata": {},
     "output_type": "execute_result"
    }
   ],
   "source": [
    "len(movies_map)"
   ]
  },
  {
   "cell_type": "code",
   "execution_count": null,
   "metadata": {},
   "outputs": [],
   "source": []
  },
  {
   "cell_type": "code",
   "execution_count": 424,
   "metadata": {},
   "outputs": [
    {
     "name": "stdout",
     "output_type": "stream",
     "text": [
      "Wall time: 0 ns\n"
     ]
    }
   ],
   "source": [
    "%%time\n",
    "def thresh_filt(filtration, thresh):\n",
    "    filtration = [f for f in filtration if f[1] < thresh]\n",
    "    return filtration\n",
    "    \n",
    "def build_graph(filtration, thresh=None):\n",
    "    \"\"\" Build a networkx graph out of the 1-skeleton in the filtration\n",
    "    \"\"\"\n",
    "    if thresh:\n",
    "        filtration = thresh_filt(filtration, thresh)\n",
    "    vertices = [s[0][0] for s in filtration if len(s[0]) == 1]\n",
    "    edges = [s[0] for s in filtration if len(s[0]) == 2]\n",
    "    edge_attrs = {s[0]: s[1] for s in filtration if len(s[0]) == 2}\n",
    "    edge_weights = list(edge_attrs.values())\n",
    "    \n",
    "    g = nx.Graph()\n",
    "    g.add_nodes_from(vertices)\n",
    "    g.add_edges_from(edges)\n",
    "    nx.set_edge_attributes(g, edge_attrs, 'dist')\n",
    "\n",
    "    return g"
   ]
  },
  {
   "cell_type": "code",
   "execution_count": 425,
   "metadata": {},
   "outputs": [
    {
     "name": "stdout",
     "output_type": "stream",
     "text": [
      "452.1643741130829\n",
      "Wall time: 7min 32s\n"
     ]
    }
   ],
   "source": [
    "%%time\n",
    "start = time.time()\n",
    "c = Cover(max_dim=1)\n",
    "filtration = c.build(movies_map)\n",
    "\n",
    "vertices = [s for s in filtration if len(s[0]) == 1]\n",
    "edges = [s for s in filtration if len(s[0]) == 2]\n",
    "\n",
    "# Make sure we have vertices and edges and no triangles\n",
    "assert len(filtration) == len(vertices) + len(edges)\n",
    "assert len(edges) > 0\n",
    "g = build_graph(filtration)\n",
    "end = time.time()\n",
    "print(end-start)"
   ]
  },
  {
   "cell_type": "code",
   "execution_count": 429,
   "metadata": {},
   "outputs": [
    {
     "data": {
      "text/plain": [
       "15183"
      ]
     },
     "execution_count": 429,
     "metadata": {},
     "output_type": "execute_result"
    }
   ],
   "source": [
    "g.number_of_nodes()"
   ]
  },
  {
   "cell_type": "code",
   "execution_count": 430,
   "metadata": {},
   "outputs": [
    {
     "data": {
      "text/plain": [
       "175176"
      ]
     },
     "execution_count": 430,
     "metadata": {},
     "output_type": "execute_result"
    }
   ],
   "source": [
    "g.number_of_edges()"
   ]
  },
  {
   "cell_type": "code",
   "execution_count": 431,
   "metadata": {},
   "outputs": [
    {
     "ename": "SyntaxError",
     "evalue": "invalid syntax (1195783164.py, line 1)",
     "output_type": "error",
     "traceback": [
      "\u001b[1;36m  File \u001b[1;32m\"C:\\Users\\Alpaca\\AppData\\Local\\Temp\\ipykernel_52692\\1195783164.py\"\u001b[1;36m, line \u001b[1;32m1\u001b[0m\n\u001b[1;33m    c.\u001b[0m\n\u001b[1;37m      ^\u001b[0m\n\u001b[1;31mSyntaxError\u001b[0m\u001b[1;31m:\u001b[0m invalid syntax\n"
     ]
    }
   ],
   "source": [
    "c."
   ]
  },
  {
   "cell_type": "code",
   "execution_count": null,
   "metadata": {},
   "outputs": [],
   "source": []
  },
  {
   "cell_type": "code",
   "execution_count": 432,
   "metadata": {},
   "outputs": [
    {
     "data": {
      "text/plain": [
       "[0.0,\n",
       " 0.0,\n",
       " 0.0,\n",
       " 0.0,\n",
       " 0.0,\n",
       " 0.0,\n",
       " 0.0,\n",
       " 0.0,\n",
       " 0.0,\n",
       " 0.0,\n",
       " 0.0,\n",
       " 0.0,\n",
       " 0.0,\n",
       " 0.0,\n",
       " 0.0,\n",
       " 0.0,\n",
       " 0.0,\n",
       " 0.0,\n",
       " 0.0,\n",
       " 0.07692307692307687,\n",
       " 0.08333333333333337,\n",
       " 0.11111111111111116,\n",
       " 0.11111111111111116,\n",
       " 0.11111111111111116,\n",
       " 0.11111111111111116,\n",
       " 0.11111111111111116,\n",
       " 0.11111111111111116,\n",
       " 0.11111111111111116,\n",
       " 0.11111111111111116,\n",
       " 0.11111111111111116,\n",
       " 0.11111111111111116,\n",
       " 0.11111111111111116,\n",
       " 0.125,\n",
       " 0.125,\n",
       " 0.125,\n",
       " 0.1428571428571429,\n",
       " 0.15384615384615385,\n",
       " 0.15384615384615385,\n",
       " 0.15384615384615385,\n",
       " 0.15384615384615385,\n",
       " 0.15384615384615385,\n",
       " 0.16666666666666663,\n",
       " 0.16666666666666663,\n",
       " 0.16666666666666663,\n",
       " 0.16666666666666663,\n",
       " 0.16666666666666663,\n",
       " 0.17647058823529416,\n",
       " 0.18181818181818177,\n",
       " 0.19565217391304346,\n",
       " 0.19999999999999996,\n",
       " 0.19999999999999996,\n",
       " 0.19999999999999996,\n",
       " 0.19999999999999996,\n",
       " 0.19999999999999996,\n",
       " 0.19999999999999996,\n",
       " 0.19999999999999996,\n",
       " 0.19999999999999996,\n",
       " 0.19999999999999996,\n",
       " 0.21052631578947367,\n",
       " 0.2142857142857143,\n",
       " 0.2142857142857143,\n",
       " 0.2222222222222222,\n",
       " 0.2222222222222222,\n",
       " 0.2222222222222222,\n",
       " 0.22448979591836737,\n",
       " 0.22580645161290325,\n",
       " 0.23076923076923073,\n",
       " 0.23188405797101452,\n",
       " 0.2432432432432432,\n",
       " 0.25,\n",
       " 0.25,\n",
       " 0.25,\n",
       " 0.25,\n",
       " 0.2727272727272727,\n",
       " 0.2727272727272727,\n",
       " 0.2727272727272727,\n",
       " 0.2727272727272727,\n",
       " 0.2727272727272727,\n",
       " 0.2857142857142857,\n",
       " 0.2857142857142857,\n",
       " 0.2857142857142857,\n",
       " 0.2857142857142857,\n",
       " 0.2857142857142857,\n",
       " 0.2857142857142857,\n",
       " 0.2857142857142857,\n",
       " 0.2857142857142857,\n",
       " 0.2857142857142857,\n",
       " 0.2857142857142857,\n",
       " 0.2941176470588235,\n",
       " 0.2941176470588235,\n",
       " 0.30000000000000004,\n",
       " 0.30000000000000004,\n",
       " 0.30069930069930073,\n",
       " 0.3142857142857143,\n",
       " 0.31818181818181823,\n",
       " 0.32499999999999996,\n",
       " 0.33333333333333337,\n",
       " 0.33333333333333337,\n",
       " 0.33333333333333337,\n",
       " 0.33333333333333337,\n",
       " 0.33333333333333337,\n",
       " 0.33333333333333337,\n",
       " 0.33333333333333337,\n",
       " 0.33333333333333337,\n",
       " 0.33333333333333337,\n",
       " 0.33333333333333337,\n",
       " 0.33333333333333337,\n",
       " 0.33333333333333337,\n",
       " 0.33333333333333337,\n",
       " 0.34013605442176875,\n",
       " 0.3525179856115108,\n",
       " 0.3571428571428571,\n",
       " 0.3571428571428571,\n",
       " 0.35862068965517246,\n",
       " 0.36363636363636365,\n",
       " 0.36363636363636365,\n",
       " 0.364406779661017,\n",
       " 0.3650793650793651,\n",
       " 0.3717948717948718,\n",
       " 0.375,\n",
       " 0.375,\n",
       " 0.375,\n",
       " 0.375,\n",
       " 0.375,\n",
       " 0.375,\n",
       " 0.375,\n",
       " 0.375,\n",
       " 0.375,\n",
       " 0.375,\n",
       " 0.3793103448275862,\n",
       " 0.38095238095238093,\n",
       " 0.38095238095238093,\n",
       " 0.38235294117647056,\n",
       " 0.3846153846153846,\n",
       " 0.3846153846153846,\n",
       " 0.3846153846153846,\n",
       " 0.3846153846153846,\n",
       " 0.3870967741935484,\n",
       " 0.38961038961038963,\n",
       " 0.39534883720930236,\n",
       " 0.4,\n",
       " 0.4,\n",
       " 0.4,\n",
       " 0.4,\n",
       " 0.4,\n",
       " 0.4,\n",
       " 0.4035087719298246,\n",
       " 0.4054054054054054,\n",
       " 0.40909090909090906,\n",
       " 0.4117647058823529,\n",
       " 0.41666666666666663,\n",
       " 0.41666666666666663,\n",
       " 0.41891891891891897,\n",
       " 0.42105263157894735,\n",
       " 0.42553191489361697,\n",
       " 0.4285714285714286,\n",
       " 0.4285714285714286,\n",
       " 0.4285714285714286,\n",
       " 0.4285714285714286,\n",
       " 0.4285714285714286,\n",
       " 0.4285714285714286,\n",
       " 0.4285714285714286,\n",
       " 0.4285714285714286,\n",
       " 0.4285714285714286,\n",
       " 0.4285714285714286,\n",
       " 0.4285714285714286,\n",
       " 0.4285714285714286,\n",
       " 0.4285714285714286,\n",
       " 0.430939226519337,\n",
       " 0.43670886075949367,\n",
       " 0.4444444444444444,\n",
       " 0.4444444444444444,\n",
       " 0.4444444444444444,\n",
       " 0.4444444444444444,\n",
       " 0.4444444444444444,\n",
       " 0.4464285714285714,\n",
       " 0.4492753623188406,\n",
       " 0.4509803921568627,\n",
       " 0.4545454545454546,\n",
       " 0.4545454545454546,\n",
       " 0.4545454545454546,\n",
       " 0.4545454545454546,\n",
       " 0.4545454545454546,\n",
       " 0.46153846153846156,\n",
       " 0.46153846153846156,\n",
       " 0.4619565217391305,\n",
       " 0.46341463414634143,\n",
       " 0.4666666666666667,\n",
       " 0.4666666666666667,\n",
       " 0.47058823529411764,\n",
       " 0.47058823529411764,\n",
       " 0.4736842105263158,\n",
       " 0.47619047619047616,\n",
       " 0.47663551401869164,\n",
       " 0.48427672955974843,\n",
       " 0.4897959183673469,\n",
       " 0.5,\n",
       " 0.5,\n",
       " 0.5,\n",
       " 0.5,\n",
       " 0.5,\n",
       " 0.5,\n",
       " 0.5,\n",
       " 0.5,\n",
       " 0.5,\n",
       " 0.5,\n",
       " 0.5,\n",
       " 0.5,\n",
       " 0.5,\n",
       " 0.5,\n",
       " 0.5,\n",
       " 0.5,\n",
       " 0.5,\n",
       " 0.5,\n",
       " 0.5,\n",
       " 0.5,\n",
       " 0.5,\n",
       " 0.5,\n",
       " 0.5,\n",
       " 0.5,\n",
       " 0.5,\n",
       " 0.5,\n",
       " 0.5,\n",
       " 0.5,\n",
       " 0.5,\n",
       " 0.5,\n",
       " 0.5,\n",
       " 0.5,\n",
       " 0.5,\n",
       " 0.5,\n",
       " 0.5,\n",
       " 0.5128205128205128,\n",
       " 0.5142857142857142,\n",
       " 0.5151515151515151,\n",
       " 0.5161290322580645,\n",
       " 0.5172413793103448,\n",
       " 0.5263157894736843,\n",
       " 0.5294117647058824,\n",
       " 0.5294117647058824,\n",
       " 0.5294117647058824,\n",
       " 0.5324675324675325,\n",
       " 0.5333333333333333,\n",
       " 0.5333333333333333,\n",
       " 0.5384615384615384,\n",
       " 0.5384615384615384,\n",
       " 0.5384615384615384,\n",
       " 0.5384615384615384,\n",
       " 0.5384615384615384,\n",
       " 0.5416666666666667,\n",
       " 0.5454545454545454,\n",
       " 0.5454545454545454,\n",
       " 0.5454545454545454,\n",
       " 0.5454545454545454,\n",
       " 0.5454545454545454,\n",
       " 0.5486111111111112,\n",
       " 0.55,\n",
       " 0.55,\n",
       " 0.55,\n",
       " 0.55,\n",
       " 0.55,\n",
       " 0.55,\n",
       " 0.5517241379310345,\n",
       " 0.5542168674698795,\n",
       " 0.5555555555555556,\n",
       " 0.5555555555555556,\n",
       " 0.5555555555555556,\n",
       " 0.5555555555555556,\n",
       " 0.5555555555555556,\n",
       " 0.5555555555555556,\n",
       " 0.5555555555555556,\n",
       " 0.5555555555555556,\n",
       " 0.5555555555555556,\n",
       " 0.5555555555555556,\n",
       " 0.5555555555555556,\n",
       " 0.5555555555555556,\n",
       " 0.5555555555555556,\n",
       " 0.5555555555555556,\n",
       " 0.5555555555555556,\n",
       " 0.5555555555555556,\n",
       " 0.5588235294117647,\n",
       " 0.56,\n",
       " 0.5625,\n",
       " 0.5652173913043479,\n",
       " 0.5652173913043479,\n",
       " 0.5666666666666667,\n",
       " 0.5689655172413793,\n",
       " 0.5714285714285714,\n",
       " 0.5714285714285714,\n",
       " 0.5714285714285714,\n",
       " 0.5714285714285714,\n",
       " 0.5714285714285714,\n",
       " 0.5714285714285714,\n",
       " 0.5714285714285714,\n",
       " 0.5714285714285714,\n",
       " 0.5714285714285714,\n",
       " 0.5714285714285714,\n",
       " 0.5714285714285714,\n",
       " 0.5714285714285714,\n",
       " 0.5714285714285714,\n",
       " 0.5714285714285714,\n",
       " 0.5714285714285714,\n",
       " 0.5714285714285714,\n",
       " 0.5714285714285714,\n",
       " 0.5714285714285714,\n",
       " 0.5714285714285714,\n",
       " 0.5769230769230769,\n",
       " 0.5769230769230769,\n",
       " 0.5769230769230769,\n",
       " 0.5769230769230769,\n",
       " 0.5789473684210527,\n",
       " 0.5806451612903225,\n",
       " 0.5818181818181818,\n",
       " 0.5833333333333333,\n",
       " 0.5833333333333333,\n",
       " 0.5833333333333333,\n",
       " 0.5833333333333333,\n",
       " 0.5833333333333333,\n",
       " 0.5833333333333333,\n",
       " 0.5849056603773585,\n",
       " 0.5853658536585367,\n",
       " 0.5862068965517242,\n",
       " 0.5873015873015873,\n",
       " 0.5882352941176471,\n",
       " 0.5909090909090908,\n",
       " 0.5909090909090908,\n",
       " 0.5909090909090908,\n",
       " 0.5912408759124088,\n",
       " 0.5913043478260869,\n",
       " 0.5925925925925926,\n",
       " 0.5925925925925926,\n",
       " 0.5925925925925926,\n",
       " 0.59375,\n",
       " 0.5942028985507246,\n",
       " 0.6,\n",
       " 0.6,\n",
       " 0.6,\n",
       " 0.6,\n",
       " 0.6,\n",
       " 0.6,\n",
       " 0.6,\n",
       " 0.6,\n",
       " 0.6,\n",
       " 0.6,\n",
       " 0.6,\n",
       " 0.6,\n",
       " 0.6,\n",
       " 0.6,\n",
       " 0.6,\n",
       " 0.6,\n",
       " 0.6,\n",
       " 0.6,\n",
       " 0.6,\n",
       " 0.6,\n",
       " 0.6,\n",
       " 0.6,\n",
       " 0.6060606060606061,\n",
       " 0.6060606060606061,\n",
       " 0.6071428571428572,\n",
       " 0.6071428571428572,\n",
       " 0.6097560975609756,\n",
       " 0.6101694915254237,\n",
       " 0.6111111111111112,\n",
       " 0.6111111111111112,\n",
       " 0.6111111111111112,\n",
       " 0.6111111111111112,\n",
       " 0.6111111111111112,\n",
       " 0.6122448979591837,\n",
       " 0.6129032258064516,\n",
       " 0.6129032258064516,\n",
       " 0.6129032258064516,\n",
       " 0.6153846153846154,\n",
       " 0.6153846153846154,\n",
       " 0.6153846153846154,\n",
       " 0.6153846153846154,\n",
       " 0.6153846153846154,\n",
       " 0.6166666666666667,\n",
       " 0.6190476190476191,\n",
       " 0.6190476190476191,\n",
       " 0.6190476190476191,\n",
       " 0.6190476190476191,\n",
       " 0.6193548387096774,\n",
       " 0.62,\n",
       " 0.62,\n",
       " 0.6212121212121212,\n",
       " 0.6216216216216216,\n",
       " 0.625,\n",
       " 0.625,\n",
       " 0.625,\n",
       " 0.625,\n",
       " 0.625,\n",
       " 0.625,\n",
       " 0.625,\n",
       " 0.625,\n",
       " 0.625,\n",
       " 0.625,\n",
       " 0.625,\n",
       " 0.625,\n",
       " 0.625,\n",
       " 0.625,\n",
       " 0.625,\n",
       " 0.625,\n",
       " 0.625,\n",
       " 0.625,\n",
       " 0.625,\n",
       " 0.625,\n",
       " 0.625,\n",
       " 0.625,\n",
       " 0.625,\n",
       " 0.625,\n",
       " 0.625,\n",
       " 0.625,\n",
       " 0.6274509803921569,\n",
       " 0.6296296296296297,\n",
       " 0.6296296296296297,\n",
       " 0.631578947368421,\n",
       " 0.631578947368421,\n",
       " 0.631578947368421,\n",
       " 0.631578947368421,\n",
       " 0.6319018404907976,\n",
       " 0.6333333333333333,\n",
       " 0.6363636363636364,\n",
       " 0.6363636363636364,\n",
       " 0.6363636363636364,\n",
       " 0.6363636363636364,\n",
       " 0.6363636363636364,\n",
       " 0.6363636363636364,\n",
       " 0.6363636363636364,\n",
       " 0.6363636363636364,\n",
       " 0.6363636363636364,\n",
       " 0.6363636363636364,\n",
       " 0.6363636363636364,\n",
       " 0.6363636363636364,\n",
       " 0.6363636363636364,\n",
       " 0.6363636363636364,\n",
       " 0.6363636363636364,\n",
       " 0.6363636363636364,\n",
       " 0.6363636363636364,\n",
       " 0.6373626373626373,\n",
       " 0.6388888888888888,\n",
       " 0.6388888888888888,\n",
       " 0.639344262295082,\n",
       " 0.64,\n",
       " 0.64,\n",
       " 0.64,\n",
       " 0.64,\n",
       " 0.641025641025641,\n",
       " 0.6428571428571428,\n",
       " 0.6428571428571428,\n",
       " 0.6428571428571428,\n",
       " 0.6428571428571428,\n",
       " 0.6428571428571428,\n",
       " 0.6428571428571428,\n",
       " 0.6440677966101696,\n",
       " 0.6470588235294117,\n",
       " 0.6470588235294117,\n",
       " 0.6470588235294117,\n",
       " 0.6470588235294117,\n",
       " 0.6470588235294117,\n",
       " 0.6470588235294117,\n",
       " 0.6481481481481481,\n",
       " 0.6491228070175439,\n",
       " 0.65,\n",
       " 0.65,\n",
       " 0.65,\n",
       " 0.65,\n",
       " 0.65,\n",
       " 0.6521739130434783,\n",
       " 0.6521739130434783,\n",
       " 0.6551724137931034,\n",
       " 0.6551724137931034,\n",
       " 0.65625,\n",
       " 0.65625,\n",
       " 0.6571428571428571,\n",
       " 0.6571428571428571,\n",
       " 0.6571428571428571,\n",
       " 0.6578947368421053,\n",
       " 0.6617647058823529,\n",
       " 0.6666666666666667,\n",
       " 0.6666666666666667,\n",
       " 0.6666666666666667,\n",
       " 0.6666666666666667,\n",
       " 0.6666666666666667,\n",
       " 0.6666666666666667,\n",
       " 0.6666666666666667,\n",
       " 0.6666666666666667,\n",
       " 0.6666666666666667,\n",
       " 0.6666666666666667,\n",
       " 0.6666666666666667,\n",
       " 0.6666666666666667,\n",
       " 0.6666666666666667,\n",
       " 0.6666666666666667,\n",
       " 0.6666666666666667,\n",
       " 0.6666666666666667,\n",
       " 0.6666666666666667,\n",
       " 0.6666666666666667,\n",
       " 0.6666666666666667,\n",
       " 0.6666666666666667,\n",
       " 0.6666666666666667,\n",
       " 0.6666666666666667,\n",
       " 0.6666666666666667,\n",
       " 0.6666666666666667,\n",
       " 0.6666666666666667,\n",
       " 0.6666666666666667,\n",
       " 0.6666666666666667,\n",
       " 0.6666666666666667,\n",
       " 0.6666666666666667,\n",
       " 0.6666666666666667,\n",
       " 0.6666666666666667,\n",
       " 0.6666666666666667,\n",
       " 0.6666666666666667,\n",
       " 0.6666666666666667,\n",
       " 0.6666666666666667,\n",
       " 0.6666666666666667,\n",
       " 0.6666666666666667,\n",
       " 0.6666666666666667,\n",
       " 0.6666666666666667,\n",
       " 0.6666666666666667,\n",
       " 0.6666666666666667,\n",
       " 0.6666666666666667,\n",
       " 0.6666666666666667,\n",
       " 0.6666666666666667,\n",
       " 0.6666666666666667,\n",
       " 0.6666666666666667,\n",
       " 0.6666666666666667,\n",
       " 0.6666666666666667,\n",
       " 0.6666666666666667,\n",
       " 0.6666666666666667,\n",
       " 0.6666666666666667,\n",
       " 0.6689189189189189,\n",
       " 0.6736842105263158,\n",
       " 0.6737588652482269,\n",
       " 0.6739130434782609,\n",
       " 0.6744186046511628,\n",
       " 0.6744186046511628,\n",
       " 0.675,\n",
       " 0.675,\n",
       " 0.675,\n",
       " 0.6756756756756757,\n",
       " 0.6764705882352942,\n",
       " 0.6770833333333333,\n",
       " 0.6781609195402298,\n",
       " 0.6785714285714286,\n",
       " 0.6785714285714286,\n",
       " 0.6799999999999999,\n",
       " 0.6799999999999999,\n",
       " 0.6799999999999999,\n",
       " 0.681081081081081,\n",
       " 0.6811594202898551,\n",
       " 0.6818181818181819,\n",
       " 0.6818181818181819,\n",
       " 0.6818181818181819,\n",
       " 0.6818181818181819,\n",
       " 0.6818181818181819,\n",
       " 0.6818181818181819,\n",
       " 0.6818181818181819,\n",
       " 0.6818181818181819,\n",
       " 0.6818181818181819,\n",
       " 0.6818181818181819,\n",
       " 0.6825396825396826,\n",
       " 0.6829268292682926,\n",
       " 0.6842105263157895,\n",
       " 0.6842105263157895,\n",
       " 0.6842105263157895,\n",
       " 0.6842105263157895,\n",
       " 0.6842105263157895,\n",
       " 0.6842105263157895,\n",
       " 0.6846846846846847,\n",
       " 0.6851851851851851,\n",
       " 0.6857142857142857,\n",
       " 0.6857142857142857,\n",
       " 0.6857142857142857,\n",
       " 0.6862745098039216,\n",
       " 0.6862745098039216,\n",
       " 0.6875,\n",
       " 0.6875,\n",
       " 0.6875,\n",
       " 0.6875,\n",
       " 0.6875,\n",
       " 0.6875,\n",
       " 0.6875,\n",
       " 0.6875,\n",
       " 0.6875,\n",
       " 0.6888888888888889,\n",
       " 0.6888888888888889,\n",
       " 0.6896551724137931,\n",
       " 0.6896551724137931,\n",
       " 0.6904761904761905,\n",
       " 0.6914893617021276,\n",
       " 0.6923076923076923,\n",
       " 0.6923076923076923,\n",
       " 0.6923076923076923,\n",
       " 0.6923076923076923,\n",
       " 0.6923076923076923,\n",
       " 0.6923076923076923,\n",
       " 0.6923076923076923,\n",
       " 0.6923076923076923,\n",
       " 0.6923076923076923,\n",
       " 0.6923076923076923,\n",
       " 0.6923076923076923,\n",
       " 0.6923076923076923,\n",
       " 0.6923076923076923,\n",
       " 0.6923076923076923,\n",
       " 0.6923076923076923,\n",
       " 0.6923076923076923,\n",
       " 0.6923076923076923,\n",
       " 0.6923076923076923,\n",
       " 0.6923076923076923,\n",
       " 0.6923076923076923,\n",
       " 0.6923076923076923,\n",
       " 0.6923076923076923,\n",
       " 0.6923076923076923,\n",
       " 0.6923076923076923,\n",
       " 0.6923076923076923,\n",
       " 0.6923076923076923,\n",
       " 0.6923076923076923,\n",
       " 0.6923076923076923,\n",
       " 0.6938775510204082,\n",
       " 0.6956521739130435,\n",
       " 0.6956521739130435,\n",
       " 0.6956521739130435,\n",
       " 0.6956521739130435,\n",
       " 0.6956521739130435,\n",
       " 0.6964285714285714,\n",
       " 0.696969696969697,\n",
       " 0.696969696969697,\n",
       " 0.696969696969697,\n",
       " 0.6981132075471699,\n",
       " 0.7,\n",
       " 0.7,\n",
       " 0.7,\n",
       " 0.7,\n",
       " 0.7,\n",
       " 0.7,\n",
       " 0.7,\n",
       " 0.7,\n",
       " 0.7,\n",
       " 0.7,\n",
       " 0.7,\n",
       " 0.7,\n",
       " 0.7,\n",
       " 0.7,\n",
       " 0.7,\n",
       " 0.7,\n",
       " 0.7,\n",
       " 0.7,\n",
       " 0.7,\n",
       " 0.7,\n",
       " 0.7007299270072993,\n",
       " 0.7023809523809523,\n",
       " 0.7027027027027026,\n",
       " 0.7027027027027026,\n",
       " 0.7027027027027026,\n",
       " 0.7027027027027026,\n",
       " 0.7037037037037037,\n",
       " 0.7049180327868853,\n",
       " 0.7058823529411764,\n",
       " 0.7058823529411764,\n",
       " 0.7058823529411764,\n",
       " 0.7058823529411764,\n",
       " 0.7058823529411764,\n",
       " 0.7058823529411764,\n",
       " 0.7058823529411764,\n",
       " 0.7058823529411764,\n",
       " 0.7058823529411764,\n",
       " 0.7083333333333333,\n",
       " 0.7083333333333333,\n",
       " 0.7083333333333333,\n",
       " 0.7083333333333333,\n",
       " 0.7088607594936709,\n",
       " 0.7096774193548387,\n",
       " 0.7096774193548387,\n",
       " 0.7096774193548387,\n",
       " 0.7096774193548387,\n",
       " 0.7105263157894737,\n",
       " 0.7115384615384616,\n",
       " 0.7115384615384616,\n",
       " 0.7115384615384616,\n",
       " 0.7142857142857143,\n",
       " 0.7142857142857143,\n",
       " 0.7142857142857143,\n",
       " 0.7142857142857143,\n",
       " 0.7142857142857143,\n",
       " 0.7142857142857143,\n",
       " 0.7142857142857143,\n",
       " 0.7142857142857143,\n",
       " 0.7142857142857143,\n",
       " 0.7142857142857143,\n",
       " 0.7142857142857143,\n",
       " 0.7142857142857143,\n",
       " 0.7142857142857143,\n",
       " 0.7142857142857143,\n",
       " 0.7142857142857143,\n",
       " 0.7142857142857143,\n",
       " 0.7142857142857143,\n",
       " 0.7142857142857143,\n",
       " 0.7142857142857143,\n",
       " 0.7142857142857143,\n",
       " 0.7142857142857143,\n",
       " 0.7176470588235294,\n",
       " 0.71875,\n",
       " 0.71875,\n",
       " 0.72,\n",
       " 0.72,\n",
       " 0.72,\n",
       " 0.72,\n",
       " 0.72,\n",
       " 0.72,\n",
       " 0.7222222222222222,\n",
       " 0.7222222222222222,\n",
       " 0.7222222222222222,\n",
       " 0.7222222222222222,\n",
       " 0.7222222222222222,\n",
       " 0.7222222222222222,\n",
       " 0.7222222222222222,\n",
       " 0.7222222222222222,\n",
       " 0.7222222222222222,\n",
       " 0.7222222222222222,\n",
       " 0.7222222222222222,\n",
       " 0.7234042553191489,\n",
       " 0.7241379310344828,\n",
       " 0.7241379310344828,\n",
       " 0.7241379310344828,\n",
       " 0.7241379310344828,\n",
       " 0.7248322147651007,\n",
       " 0.725,\n",
       " 0.725,\n",
       " 0.725,\n",
       " 0.725,\n",
       " 0.7258064516129032,\n",
       " 0.7272727272727273,\n",
       " 0.7272727272727273,\n",
       " 0.7272727272727273,\n",
       " 0.7272727272727273,\n",
       " 0.7272727272727273,\n",
       " 0.7272727272727273,\n",
       " 0.7272727272727273,\n",
       " 0.7272727272727273,\n",
       " 0.7272727272727273,\n",
       " 0.7272727272727273,\n",
       " 0.7272727272727273,\n",
       " 0.7272727272727273,\n",
       " 0.7272727272727273,\n",
       " 0.7272727272727273,\n",
       " 0.7272727272727273,\n",
       " 0.7272727272727273,\n",
       " 0.7272727272727273,\n",
       " 0.7272727272727273,\n",
       " 0.7272727272727273,\n",
       " 0.7272727272727273,\n",
       " 0.7272727272727273,\n",
       " 0.7272727272727273,\n",
       " 0.7291666666666667,\n",
       " 0.7297297297297297,\n",
       " 0.73,\n",
       " 0.7307692307692308,\n",
       " 0.7307692307692308,\n",
       " 0.7307692307692308,\n",
       " 0.7307692307692308,\n",
       " 0.7325581395348837,\n",
       " 0.7329192546583851,\n",
       " 0.7333333333333334,\n",
       " 0.7333333333333334,\n",
       " 0.7333333333333334,\n",
       " 0.7333333333333334,\n",
       " 0.7333333333333334,\n",
       " 0.7333333333333334,\n",
       " 0.7333333333333334,\n",
       " 0.7333333333333334,\n",
       " 0.7333333333333334,\n",
       " 0.7333333333333334,\n",
       " 0.7333333333333334,\n",
       " 0.7333333333333334,\n",
       " 0.7333333333333334,\n",
       " 0.7333333333333334,\n",
       " 0.7346938775510203,\n",
       " 0.736842105263158,\n",
       " 0.736842105263158,\n",
       " 0.736842105263158,\n",
       " 0.736842105263158,\n",
       " 0.736842105263158,\n",
       " 0.736842105263158,\n",
       " 0.736842105263158,\n",
       " 0.736842105263158,\n",
       " 0.736842105263158,\n",
       " 0.736842105263158,\n",
       " 0.736842105263158,\n",
       " 0.736842105263158,\n",
       " 0.736842105263158,\n",
       " 0.736842105263158,\n",
       " 0.7380952380952381,\n",
       " 0.7380952380952381,\n",
       " 0.7391304347826086,\n",
       " 0.7391304347826086,\n",
       " 0.7391304347826086,\n",
       " 0.7391304347826086,\n",
       " 0.7391304347826086,\n",
       " 0.7391304347826086,\n",
       " 0.7391304347826086,\n",
       " 0.7391304347826086,\n",
       " 0.7391304347826086,\n",
       " 0.74,\n",
       " 0.7422680412371134,\n",
       " 0.7435897435897436,\n",
       " 0.7435897435897436,\n",
       " 0.7441860465116279,\n",
       " 0.7441860465116279,\n",
       " 0.7446808510638299,\n",
       " 0.7446808510638299,\n",
       " 0.7450980392156863,\n",
       " 0.7454545454545455,\n",
       " 0.7474747474747474,\n",
       " 0.75,\n",
       " 0.75,\n",
       " 0.75,\n",
       " 0.75,\n",
       " 0.75,\n",
       " 0.75,\n",
       " 0.75,\n",
       " 0.75,\n",
       " 0.75,\n",
       " 0.75,\n",
       " 0.75,\n",
       " 0.75,\n",
       " 0.75,\n",
       " 0.75,\n",
       " 0.75,\n",
       " 0.75,\n",
       " 0.75,\n",
       " 0.75,\n",
       " 0.75,\n",
       " 0.75,\n",
       " 0.75,\n",
       " 0.75,\n",
       " 0.75,\n",
       " 0.75,\n",
       " 0.75,\n",
       " 0.75,\n",
       " 0.75,\n",
       " 0.75,\n",
       " 0.75,\n",
       " 0.75,\n",
       " 0.75,\n",
       " 0.75,\n",
       " 0.75,\n",
       " 0.75,\n",
       " 0.75,\n",
       " 0.75,\n",
       " 0.75,\n",
       " 0.75,\n",
       " 0.75,\n",
       " 0.75,\n",
       " 0.75,\n",
       " 0.75,\n",
       " 0.75,\n",
       " 0.75,\n",
       " 0.75,\n",
       " 0.75,\n",
       " 0.75,\n",
       " 0.75,\n",
       " 0.75,\n",
       " 0.75,\n",
       " 0.75,\n",
       " 0.75,\n",
       " 0.75,\n",
       " 0.75,\n",
       " 0.75,\n",
       " 0.75,\n",
       " 0.75,\n",
       " 0.75,\n",
       " 0.75,\n",
       " 0.75,\n",
       " 0.75,\n",
       " 0.75,\n",
       " 0.75,\n",
       " 0.75,\n",
       " 0.75,\n",
       " 0.75,\n",
       " 0.75,\n",
       " 0.75,\n",
       " 0.75,\n",
       " 0.75,\n",
       " 0.75,\n",
       " 0.75,\n",
       " 0.75,\n",
       " 0.75,\n",
       " 0.75,\n",
       " 0.75,\n",
       " 0.75,\n",
       " 0.75,\n",
       " 0.75,\n",
       " 0.75,\n",
       " 0.75,\n",
       " 0.75,\n",
       " 0.75,\n",
       " 0.75,\n",
       " 0.75,\n",
       " 0.75,\n",
       " 0.75,\n",
       " 0.75,\n",
       " 0.75,\n",
       " 0.75,\n",
       " 0.75,\n",
       " 0.75,\n",
       " 0.75,\n",
       " 0.75,\n",
       " 0.75,\n",
       " 0.75,\n",
       " 0.75,\n",
       " 0.75,\n",
       " 0.75,\n",
       " 0.75,\n",
       " 0.75,\n",
       " 0.75,\n",
       " 0.75,\n",
       " 0.75,\n",
       " 0.7521367521367521,\n",
       " 0.7530864197530864,\n",
       " 0.7547169811320755,\n",
       " 0.7551020408163265,\n",
       " 0.7555555555555555,\n",
       " 0.7567567567567568,\n",
       " 0.7567567567567568,\n",
       " 0.7575757575757576,\n",
       " 0.7575757575757576,\n",
       " 0.7575757575757576,\n",
       " 0.7575757575757576,\n",
       " 0.7575757575757576,\n",
       " 0.7580645161290323,\n",
       " 0.7586206896551724,\n",
       " 0.7586206896551724,\n",
       " 0.7586206896551724,\n",
       " 0.7586206896551724,\n",
       " 0.7586206896551724,\n",
       " 0.7586206896551724,\n",
       " 0.7586206896551724,\n",
       " 0.76,\n",
       " 0.7608695652173914,\n",
       " 0.7612903225806451,\n",
       " 0.7619047619047619,\n",
       " 0.7619047619047619,\n",
       " 0.7619047619047619,\n",
       " 0.7619047619047619,\n",
       " 0.7619047619047619,\n",
       " 0.7619047619047619,\n",
       " 0.7619047619047619,\n",
       " 0.7619047619047619,\n",
       " 0.7619047619047619,\n",
       " 0.7619047619047619,\n",
       " 0.7619047619047619,\n",
       " 0.7627118644067796,\n",
       " 0.7627118644067796,\n",
       " 0.7631578947368421,\n",
       " 0.7631578947368421,\n",
       " 0.7631578947368421,\n",
       " 0.7631578947368421,\n",
       " 0.7631578947368421,\n",
       " 0.7647058823529411,\n",
       " 0.7647058823529411,\n",
       " 0.7647058823529411,\n",
       " 0.7647058823529411,\n",
       " 0.7647058823529411,\n",
       " 0.7647058823529411,\n",
       " 0.7647058823529411,\n",
       " 0.7647058823529411,\n",
       " 0.7647058823529411,\n",
       " 0.7647058823529411,\n",
       " 0.7647058823529411,\n",
       " 0.7647058823529411,\n",
       " 0.7647058823529411,\n",
       " 0.7647058823529411,\n",
       " 0.7647058823529411,\n",
       " 0.7647058823529411,\n",
       " 0.7647058823529411,\n",
       " 0.7647058823529411,\n",
       " 0.7647058823529411,\n",
       " 0.7647058823529411,\n",
       " 0.7659574468085106,\n",
       " 0.7666666666666666,\n",
       " 0.7666666666666666,\n",
       " 0.7666666666666666,\n",
       " 0.7666666666666666,\n",
       " 0.7666666666666666,\n",
       " 0.7666666666666666,\n",
       " 0.7666666666666666,\n",
       " 0.7672413793103449,\n",
       " 0.7674418604651163,\n",
       " 0.7674418604651163,\n",
       " 0.7675675675675675,\n",
       " 0.7678571428571428,\n",
       " 0.7678571428571428,\n",
       " 0.7687861271676301,\n",
       " 0.7692307692307692,\n",
       " 0.7692307692307692,\n",
       " 0.7692307692307692,\n",
       " 0.7692307692307692,\n",
       " 0.7692307692307692,\n",
       " 0.7692307692307692,\n",
       " 0.7692307692307692,\n",
       " 0.7692307692307692,\n",
       " 0.7692307692307692,\n",
       " ...]"
      ]
     },
     "execution_count": 432,
     "metadata": {},
     "output_type": "execute_result"
    }
   ],
   "source": [
    "sorted(c.dists)"
   ]
  },
  {
   "cell_type": "code",
   "execution_count": 433,
   "metadata": {},
   "outputs": [
    {
     "ename": "SyntaxError",
     "evalue": "EOF while scanning triple-quoted string literal (2349727418.py, line 5)",
     "output_type": "error",
     "traceback": [
      "\u001b[1;36m  File \u001b[1;32m\"C:\\Users\\Alpaca\\AppData\\Local\\Temp\\ipykernel_52692\\2349727418.py\"\u001b[1;36m, line \u001b[1;32m5\u001b[0m\n\u001b[1;33m    nx.write_gpickle(g,'7000_sample_graph')\u001b[0m\n\u001b[1;37m                                           \n^\u001b[0m\n\u001b[1;31mSyntaxError\u001b[0m\u001b[1;31m:\u001b[0m EOF while scanning triple-quoted string literal\n"
     ]
    }
   ],
   "source": [
    "#Once a graph is generated, it can be saved and loaded through nx.write_gpickle and nx.read_gpickle. \n",
    "\n",
    "'''\n",
    "import networkx as nx\n",
    "nx.write_gpickle(g,'7000_sample_graph')"
   ]
  },
  {
   "cell_type": "code",
   "execution_count": null,
   "metadata": {},
   "outputs": [],
   "source": [
    "#g2=nx.read_gpickle('7000_sample_graph')"
   ]
  },
  {
   "cell_type": "markdown",
   "metadata": {},
   "source": [
    "## Mulan $\\to$ Mulan Rouge"
   ]
  },
  {
   "cell_type": "code",
   "execution_count": 434,
   "metadata": {},
   "outputs": [],
   "source": [
    "import numpy as np\n",
    "import matplotlib.pyplot as plt\n",
    "\n",
    "from matplotlib.ticker import MaxNLocator\n",
    "import networkx as nx\n",
    "from matplotlib.collections import LineCollection\n",
    "\n",
    "# source, terminal = paths.utils.random_st(g, 1)\n",
    "def movie_names_in_path(ms):\n",
    "    movies_in_path = ms[0]\n",
    "    pms = [movie_info.loc[movie_info.movieId == m].title.values[0] for m in movies_in_path]\n",
    "    return pms\n",
    "\n",
    "#Set save=True when calling to save output as files\n",
    "def paths_demo(g, source, terminal,save=False):\n",
    "    most_stable, all_stable_paths = paths.most_stable_paths(g, source, terminal)\n",
    "    #paths.draw.plot_pareto(most_stable, all_stable_paths)\n",
    "    plot_pareto2(most_stable, all_stable_paths, save=False)\n",
    "    print(str(source))\n",
    "    with open('Output/'+str(source)+'_'+str(terminal)+str(s)+'_samples.txt', 'a+') as f:\n",
    "        for k, p in most_stable.items():\n",
    "            print(p)\n",
    "            print(k, \":\\n\\t\", \"\\n\\t\".join(movie_names_in_path(p)))\n",
    "            if save==True:\n",
    "                f.write(str(p))\n",
    "                f.write(str(k)+\":\\n\\t\"+\"\\n\\t\")\n",
    "                for movie in movie_names_in_path(p):\n",
    "                    f.write(str(movie)+\":\\n\\t\"+\"\\n\\t\")\n",
    "        "
   ]
  },
  {
   "cell_type": "code",
   "execution_count": 435,
   "metadata": {},
   "outputs": [
    {
     "data": {
      "text/plain": [
       "1489"
      ]
     },
     "execution_count": 435,
     "metadata": {},
     "output_type": "execute_result"
    }
   ],
   "source": [
    "list(movies_map.keys())[10]"
   ]
  },
  {
   "cell_type": "code",
   "execution_count": 436,
   "metadata": {},
   "outputs": [
    {
     "name": "stdout",
     "output_type": "stream",
     "text": [
      "Wall time: 21 ms\n"
     ]
    },
    {
     "data": {
      "text/html": [
       "<div>\n",
       "<style scoped>\n",
       "    .dataframe tbody tr th:only-of-type {\n",
       "        vertical-align: middle;\n",
       "    }\n",
       "\n",
       "    .dataframe tbody tr th {\n",
       "        vertical-align: top;\n",
       "    }\n",
       "\n",
       "    .dataframe thead th {\n",
       "        text-align: right;\n",
       "    }\n",
       "</style>\n",
       "<table border=\"1\" class=\"dataframe\">\n",
       "  <thead>\n",
       "    <tr style=\"text-align: right;\">\n",
       "      <th></th>\n",
       "      <th>id</th>\n",
       "      <th>track_uri</th>\n",
       "      <th>track_name</th>\n",
       "      <th>artist_name</th>\n",
       "    </tr>\n",
       "  </thead>\n",
       "  <tbody>\n",
       "    <tr>\n",
       "      <th>1489</th>\n",
       "      <td>1489</td>\n",
       "      <td>spotify:track:6r51t6szECkyxfN4rX6yqs</td>\n",
       "      <td>Always N Forever</td>\n",
       "      <td>The Orwells</td>\n",
       "    </tr>\n",
       "  </tbody>\n",
       "</table>\n",
       "</div>"
      ],
      "text/plain": [
       "        id                             track_uri        track_name  \\\n",
       "1489  1489  spotify:track:6r51t6szECkyxfN4rX6yqs  Always N Forever   \n",
       "\n",
       "      artist_name  \n",
       "1489  The Orwells  "
      ]
     },
     "execution_count": 436,
     "metadata": {},
     "output_type": "execute_result"
    }
   ],
   "source": [
    "%%time\n",
    "movie_info.loc[movie_info.id == list(movies_map.keys())[10]]"
   ]
  },
  {
   "cell_type": "code",
   "execution_count": 437,
   "metadata": {},
   "outputs": [
    {
     "name": "stdout",
     "output_type": "stream",
     "text": [
      "Wall time: 6.98 ms\n"
     ]
    },
    {
     "data": {
      "text/html": [
       "<div>\n",
       "<style scoped>\n",
       "    .dataframe tbody tr th:only-of-type {\n",
       "        vertical-align: middle;\n",
       "    }\n",
       "\n",
       "    .dataframe tbody tr th {\n",
       "        vertical-align: top;\n",
       "    }\n",
       "\n",
       "    .dataframe thead th {\n",
       "        text-align: right;\n",
       "    }\n",
       "</style>\n",
       "<table border=\"1\" class=\"dataframe\">\n",
       "  <thead>\n",
       "    <tr style=\"text-align: right;\">\n",
       "      <th></th>\n",
       "      <th>id</th>\n",
       "      <th>track_uri</th>\n",
       "      <th>track_name</th>\n",
       "      <th>artist_name</th>\n",
       "    </tr>\n",
       "  </thead>\n",
       "  <tbody>\n",
       "    <tr>\n",
       "      <th>2209</th>\n",
       "      <td>2209</td>\n",
       "      <td>spotify:track:3bhzFxDOmbpYHUAnf6HHV6</td>\n",
       "      <td>Desiree</td>\n",
       "      <td>The Ranch</td>\n",
       "    </tr>\n",
       "  </tbody>\n",
       "</table>\n",
       "</div>"
      ],
      "text/plain": [
       "        id                             track_uri track_name artist_name\n",
       "2209  2209  spotify:track:3bhzFxDOmbpYHUAnf6HHV6    Desiree   The Ranch"
      ]
     },
     "execution_count": 437,
     "metadata": {},
     "output_type": "execute_result"
    }
   ],
   "source": [
    "%%time\n",
    "movie_info.loc[movie_info.id == list(movies_map.keys())[20]]"
   ]
  },
  {
   "cell_type": "markdown",
   "metadata": {},
   "source": [
    "- Transformers $\\to$ The Notebook \n",
    "- The Princess Bride $\\to$ Donnie Darko\n",
    "- Texas Chainsaw Massacre $\\to$ Mulan\n",
    "- Mulan $\\to$ Moulin Rouge\n",
    "\n",
    "- transformers = 53996\n",
    "- notebook = 8533\n",
    "- princess = 1197\n",
    "- darko = 4878\n",
    "- chainsaw = 6880\n",
    "- mulan = 1907\n",
    "- rouge = 4308"
   ]
  },
  {
   "cell_type": "code",
   "execution_count": 438,
   "metadata": {},
   "outputs": [
    {
     "name": "stdout",
     "output_type": "stream",
     "text": [
      "1489\n"
     ]
    },
    {
     "name": "stderr",
     "output_type": "stream",
     "text": [
      "C:\\Users\\Alpaca\\AppData\\Local\\Temp\\ipykernel_52692\\823338577.py:23: MatplotlibDeprecationWarning: Adding an axes using the same arguments as a previous axes currently reuses the earlier instance.  In a future version, a new instance will always be created and returned.  Meanwhile, this warning can be suppressed, and the future behavior ensured, by passing a unique label to each axes instance.\n",
      "  plt.subplot(111)\n"
     ]
    },
    {
     "ename": "FileNotFoundError",
     "evalue": "[Errno 2] No such file or directory: 'Output/1489_22093_samples.txt'",
     "output_type": "error",
     "traceback": [
      "\u001b[1;31m---------------------------------------------------------------------------\u001b[0m",
      "\u001b[1;31mFileNotFoundError\u001b[0m                         Traceback (most recent call last)",
      "\u001b[1;32m<timed eval>\u001b[0m in \u001b[0;36m<module>\u001b[1;34m\u001b[0m\n",
      "\u001b[1;32m~\\AppData\\Local\\Temp\\ipykernel_52692\\3104658349.py\u001b[0m in \u001b[0;36mpaths_demo\u001b[1;34m(g, source, terminal, save)\u001b[0m\n\u001b[0;32m     18\u001b[0m     \u001b[0mplot_pareto2\u001b[0m\u001b[1;33m(\u001b[0m\u001b[0mmost_stable\u001b[0m\u001b[1;33m,\u001b[0m \u001b[0mall_stable_paths\u001b[0m\u001b[1;33m,\u001b[0m \u001b[0msave\u001b[0m\u001b[1;33m=\u001b[0m\u001b[1;32mFalse\u001b[0m\u001b[1;33m)\u001b[0m\u001b[1;33m\u001b[0m\u001b[1;33m\u001b[0m\u001b[0m\n\u001b[0;32m     19\u001b[0m     \u001b[0mprint\u001b[0m\u001b[1;33m(\u001b[0m\u001b[0mstr\u001b[0m\u001b[1;33m(\u001b[0m\u001b[0msource\u001b[0m\u001b[1;33m)\u001b[0m\u001b[1;33m)\u001b[0m\u001b[1;33m\u001b[0m\u001b[1;33m\u001b[0m\u001b[0m\n\u001b[1;32m---> 20\u001b[1;33m     \u001b[1;32mwith\u001b[0m \u001b[0mopen\u001b[0m\u001b[1;33m(\u001b[0m\u001b[1;34m'Output/'\u001b[0m\u001b[1;33m+\u001b[0m\u001b[0mstr\u001b[0m\u001b[1;33m(\u001b[0m\u001b[0msource\u001b[0m\u001b[1;33m)\u001b[0m\u001b[1;33m+\u001b[0m\u001b[1;34m'_'\u001b[0m\u001b[1;33m+\u001b[0m\u001b[0mstr\u001b[0m\u001b[1;33m(\u001b[0m\u001b[0mterminal\u001b[0m\u001b[1;33m)\u001b[0m\u001b[1;33m+\u001b[0m\u001b[0mstr\u001b[0m\u001b[1;33m(\u001b[0m\u001b[0ms\u001b[0m\u001b[1;33m)\u001b[0m\u001b[1;33m+\u001b[0m\u001b[1;34m'_samples.txt'\u001b[0m\u001b[1;33m,\u001b[0m \u001b[1;34m'a+'\u001b[0m\u001b[1;33m)\u001b[0m \u001b[1;32mas\u001b[0m \u001b[0mf\u001b[0m\u001b[1;33m:\u001b[0m\u001b[1;33m\u001b[0m\u001b[1;33m\u001b[0m\u001b[0m\n\u001b[0m\u001b[0;32m     21\u001b[0m         \u001b[1;32mfor\u001b[0m \u001b[0mk\u001b[0m\u001b[1;33m,\u001b[0m \u001b[0mp\u001b[0m \u001b[1;32min\u001b[0m \u001b[0mmost_stable\u001b[0m\u001b[1;33m.\u001b[0m\u001b[0mitems\u001b[0m\u001b[1;33m(\u001b[0m\u001b[1;33m)\u001b[0m\u001b[1;33m:\u001b[0m\u001b[1;33m\u001b[0m\u001b[1;33m\u001b[0m\u001b[0m\n\u001b[0;32m     22\u001b[0m             \u001b[0mprint\u001b[0m\u001b[1;33m(\u001b[0m\u001b[0mp\u001b[0m\u001b[1;33m)\u001b[0m\u001b[1;33m\u001b[0m\u001b[1;33m\u001b[0m\u001b[0m\n",
      "\u001b[1;31mFileNotFoundError\u001b[0m: [Errno 2] No such file or directory: 'Output/1489_22093_samples.txt'"
     ]
    },
    {
     "data": {
      "image/png": "[encoded data removed]",
      "text/plain": [
       "<Figure size 1440x720 with 1 Axes>"
      ]
     },
     "metadata": {
      "needs_background": "light"
     },
     "output_type": "display_data"
    }
   ],
   "source": [
    "%%time\n",
    "paths_demo(g, list(movies_map.keys())[10], list(movies_map.keys())[20])"
   ]
  },
  {
   "cell_type": "code",
   "execution_count": null,
   "metadata": {},
   "outputs": [],
   "source": []
  },
  {
   "cell_type": "code",
   "execution_count": 439,
   "metadata": {},
   "outputs": [
    {
     "name": "stdout",
     "output_type": "stream",
     "text": [
      "11736\n"
     ]
    },
    {
     "name": "stderr",
     "output_type": "stream",
     "text": [
      "C:\\Users\\Alpaca\\AppData\\Local\\Temp\\ipykernel_52692\\823338577.py:23: MatplotlibDeprecationWarning: Adding an axes using the same arguments as a previous axes currently reuses the earlier instance.  In a future version, a new instance will always be created and returned.  Meanwhile, this warning can be suppressed, and the future behavior ensured, by passing a unique label to each axes instance.\n",
      "  plt.subplot(111)\n"
     ]
    },
    {
     "ename": "FileNotFoundError",
     "evalue": "[Errno 2] No such file or directory: 'Output/11736_219683_samples.txt'",
     "output_type": "error",
     "traceback": [
      "\u001b[1;31m---------------------------------------------------------------------------\u001b[0m",
      "\u001b[1;31mFileNotFoundError\u001b[0m                         Traceback (most recent call last)",
      "\u001b[1;32m<timed eval>\u001b[0m in \u001b[0;36m<module>\u001b[1;34m\u001b[0m\n",
      "\u001b[1;32m~\\AppData\\Local\\Temp\\ipykernel_52692\\3104658349.py\u001b[0m in \u001b[0;36mpaths_demo\u001b[1;34m(g, source, terminal, save)\u001b[0m\n\u001b[0;32m     18\u001b[0m     \u001b[0mplot_pareto2\u001b[0m\u001b[1;33m(\u001b[0m\u001b[0mmost_stable\u001b[0m\u001b[1;33m,\u001b[0m \u001b[0mall_stable_paths\u001b[0m\u001b[1;33m,\u001b[0m \u001b[0msave\u001b[0m\u001b[1;33m=\u001b[0m\u001b[1;32mFalse\u001b[0m\u001b[1;33m)\u001b[0m\u001b[1;33m\u001b[0m\u001b[1;33m\u001b[0m\u001b[0m\n\u001b[0;32m     19\u001b[0m     \u001b[0mprint\u001b[0m\u001b[1;33m(\u001b[0m\u001b[0mstr\u001b[0m\u001b[1;33m(\u001b[0m\u001b[0msource\u001b[0m\u001b[1;33m)\u001b[0m\u001b[1;33m)\u001b[0m\u001b[1;33m\u001b[0m\u001b[1;33m\u001b[0m\u001b[0m\n\u001b[1;32m---> 20\u001b[1;33m     \u001b[1;32mwith\u001b[0m \u001b[0mopen\u001b[0m\u001b[1;33m(\u001b[0m\u001b[1;34m'Output/'\u001b[0m\u001b[1;33m+\u001b[0m\u001b[0mstr\u001b[0m\u001b[1;33m(\u001b[0m\u001b[0msource\u001b[0m\u001b[1;33m)\u001b[0m\u001b[1;33m+\u001b[0m\u001b[1;34m'_'\u001b[0m\u001b[1;33m+\u001b[0m\u001b[0mstr\u001b[0m\u001b[1;33m(\u001b[0m\u001b[0mterminal\u001b[0m\u001b[1;33m)\u001b[0m\u001b[1;33m+\u001b[0m\u001b[0mstr\u001b[0m\u001b[1;33m(\u001b[0m\u001b[0ms\u001b[0m\u001b[1;33m)\u001b[0m\u001b[1;33m+\u001b[0m\u001b[1;34m'_samples.txt'\u001b[0m\u001b[1;33m,\u001b[0m \u001b[1;34m'a+'\u001b[0m\u001b[1;33m)\u001b[0m \u001b[1;32mas\u001b[0m \u001b[0mf\u001b[0m\u001b[1;33m:\u001b[0m\u001b[1;33m\u001b[0m\u001b[1;33m\u001b[0m\u001b[0m\n\u001b[0m\u001b[0;32m     21\u001b[0m         \u001b[1;32mfor\u001b[0m \u001b[0mk\u001b[0m\u001b[1;33m,\u001b[0m \u001b[0mp\u001b[0m \u001b[1;32min\u001b[0m \u001b[0mmost_stable\u001b[0m\u001b[1;33m.\u001b[0m\u001b[0mitems\u001b[0m\u001b[1;33m(\u001b[0m\u001b[1;33m)\u001b[0m\u001b[1;33m:\u001b[0m\u001b[1;33m\u001b[0m\u001b[1;33m\u001b[0m\u001b[0m\n\u001b[0;32m     22\u001b[0m             \u001b[0mprint\u001b[0m\u001b[1;33m(\u001b[0m\u001b[0mp\u001b[0m\u001b[1;33m)\u001b[0m\u001b[1;33m\u001b[0m\u001b[1;33m\u001b[0m\u001b[0m\n",
      "\u001b[1;31mFileNotFoundError\u001b[0m: [Errno 2] No such file or directory: 'Output/11736_219683_samples.txt'"
     ]
    },
    {
     "data": {
      "image/png": "[encoded data removed]",
      "text/plain": [
       "<Figure size 1440x720 with 1 Axes>"
      ]
     },
     "metadata": {
      "needs_background": "light"
     },
     "output_type": "display_data"
    }
   ],
   "source": [
    "%%time\n",
    "paths_demo(g,list(movies_map.keys())[100], list(movies_map.keys())[200])"
   ]
  },
  {
   "cell_type": "code",
   "execution_count": null,
   "metadata": {},
   "outputs": [],
   "source": []
  },
  {
   "cell_type": "code",
   "execution_count": 440,
   "metadata": {},
   "outputs": [
    {
     "ename": "NameError",
     "evalue": "name 'transformers' is not defined",
     "output_type": "error",
     "traceback": [
      "\u001b[1;31m---------------------------------------------------------------------------\u001b[0m",
      "\u001b[1;31mNameError\u001b[0m                                 Traceback (most recent call last)",
      "\u001b[1;32m~\\AppData\\Local\\Temp\\ipykernel_52692\\1142563327.py\u001b[0m in \u001b[0;36m<cell line: 1>\u001b[1;34m()\u001b[0m\n\u001b[1;32m----> 1\u001b[1;33m \u001b[0mpaths_demo\u001b[0m\u001b[1;33m(\u001b[0m\u001b[0mg\u001b[0m\u001b[1;33m,\u001b[0m \u001b[0mtransformers\u001b[0m\u001b[1;33m,\u001b[0m \u001b[0mnotebook\u001b[0m\u001b[1;33m)\u001b[0m\u001b[1;33m\u001b[0m\u001b[1;33m\u001b[0m\u001b[0m\n\u001b[0m",
      "\u001b[1;31mNameError\u001b[0m: name 'transformers' is not defined"
     ]
    }
   ],
   "source": [
    "paths_demo(g, transformers, notebook)"
   ]
  },
  {
   "cell_type": "code",
   "execution_count": 441,
   "metadata": {},
   "outputs": [
    {
     "ename": "NameError",
     "evalue": "name 'princess' is not defined",
     "output_type": "error",
     "traceback": [
      "\u001b[1;31m---------------------------------------------------------------------------\u001b[0m",
      "\u001b[1;31mNameError\u001b[0m                                 Traceback (most recent call last)",
      "\u001b[1;32m~\\AppData\\Local\\Temp\\ipykernel_52692\\3903447745.py\u001b[0m in \u001b[0;36m<cell line: 1>\u001b[1;34m()\u001b[0m\n\u001b[1;32m----> 1\u001b[1;33m \u001b[0mpaths_demo\u001b[0m\u001b[1;33m(\u001b[0m\u001b[0mg\u001b[0m\u001b[1;33m,\u001b[0m \u001b[0mprincess\u001b[0m\u001b[1;33m,\u001b[0m \u001b[0mdarko\u001b[0m\u001b[1;33m)\u001b[0m\u001b[1;33m\u001b[0m\u001b[1;33m\u001b[0m\u001b[0m\n\u001b[0m",
      "\u001b[1;31mNameError\u001b[0m: name 'princess' is not defined"
     ]
    }
   ],
   "source": [
    "paths_demo(g, princess, darko)"
   ]
  },
  {
   "cell_type": "markdown",
   "metadata": {},
   "source": [
    "## Compute pareto frontier between $s$ and $t$"
   ]
  },
  {
   "cell_type": "code",
   "execution_count": 442,
   "metadata": {},
   "outputs": [
    {
     "name": "stdout",
     "output_type": "stream",
     "text": [
      "Wall time: 2 s\n"
     ]
    }
   ],
   "source": [
    "%%time\n",
    "most_stable, all_stable_paths = paths.most_stable_paths(g, list(movies_map.keys())[1100], list(movies_map.keys())[25])\n",
    "#paths.draw.plot_pareto(most_stable, all_stable_paths)\n",
    "# plt.savefig(\"movies_pareto_1.png\")\n",
    "\n",
    "#17 secs consulta sample 30k"
   ]
  },
  {
   "cell_type": "code",
   "execution_count": 443,
   "metadata": {},
   "outputs": [
    {
     "data": {
      "text/plain": [
       "{3: [([74883, 112572, 3050], 0.9928057553956835)],\n",
       " 5: [([74883, 33726, 159851, 295781, 3050], 0.9921259842519685),\n",
       "  ([74883, 580259, 65376, 90423, 3050], 0.991869918699187),\n",
       "  ([74883, 426490, 112597, 112572, 3050], 0.9873417721518988)],\n",
       " 6: [([74883, 580259, 124085, 262384, 112572, 3050], 0.9850746268656716),\n",
       "  ([74883, 734608, 123270, 162133, 345035, 3050], 0.9836065573770492),\n",
       "  ([74883, 734608, 804490, 197079, 197118, 3050], 0.9743589743589743)],\n",
       " 9: [([74883, 734608, 667945, 170770, 796516, 1846, 197079, 197118, 3050],\n",
       "   0.9736842105263158),\n",
       "  ([74883, 734608, 667945, 170770, 485158, 620711, 197079, 197118, 3050],\n",
       "   0.9722222222222222)]}"
      ]
     },
     "execution_count": 443,
     "metadata": {},
     "output_type": "execute_result"
    }
   ],
   "source": [
    "all_stable_paths"
   ]
  },
  {
   "cell_type": "code",
   "execution_count": 447,
   "metadata": {},
   "outputs": [
    {
     "name": "stdout",
     "output_type": "stream",
     "text": [
      "Howl's Moving Castle Theme (From 'Howl's Moving Castle')\n",
      "Preliminary Art Form\n",
      "19 In 99\n",
      "\n",
      "Howl's Moving Castle Theme (From 'Howl's Moving Castle')\n",
      "The Dragon Boy (From 'Spirited Away')\n",
      "Death of Titanic\n",
      "Still\n",
      "Weird World\n",
      "19 In 99\n",
      "\n",
      "Howl's Moving Castle Theme (From 'Howl's Moving Castle')\n",
      "The Dragon Boy (From 'Spirited Away')\n",
      "Myth\n",
      "What Took You So Long\n",
      "The Soft Side Of Love\n",
      "Please Protect My Heart\n",
      "Still\n",
      "Weird World\n",
      "19 In 99\n",
      "Wall time: 61.8 ms\n"
     ]
    }
   ],
   "source": [
    "%%time\n",
    "def movie_names_in_path(ms):\n",
    "    movies_in_path = ms[0]\n",
    "    pms = [movie_info.loc[movie_info.id == m].track_name.values[0] for m in movies_in_path]\n",
    "    return pms\n",
    "\n",
    "print(\"\\n\".join(movie_names_in_path(most_stable[3])))\n",
    "print()\n",
    "print(\"\\n\".join(movie_names_in_path(most_stable[6])))\n",
    "print()\n",
    "print(\"\\n\".join(movie_names_in_path(most_stable[9])))"
   ]
  },
  {
   "cell_type": "code",
   "execution_count": 448,
   "metadata": {},
   "outputs": [
    {
     "data": {
      "text/plain": [
       "{3: ([74883, 112572, 3050], 0.9928057553956835),\n",
       " 5: ([74883, 426490, 112597, 112572, 3050], 0.9873417721518988),\n",
       " 6: ([74883, 734608, 804490, 197079, 197118, 3050], 0.9743589743589743),\n",
       " 9: ([74883, 734608, 667945, 170770, 485158, 620711, 197079, 197118, 3050],\n",
       "  0.9722222222222222)}"
      ]
     },
     "execution_count": 448,
     "metadata": {},
     "output_type": "execute_result"
    }
   ],
   "source": [
    "most_stable"
   ]
  },
  {
   "cell_type": "code",
   "execution_count": 446,
   "metadata": {},
   "outputs": [
    {
     "name": "stderr",
     "output_type": "stream",
     "text": [
      "ERROR:root:Internal Python error in the inspect module.\n",
      "Below is the traceback from this internal error.\n",
      "\n"
     ]
    },
    {
     "name": "stdout",
     "output_type": "stream",
     "text": [
      "Traceback (most recent call last):\n",
      "  File \"C:\\Users\\Alpaca\\AppData\\Roaming\\Python\\Python39\\site-packages\\IPython\\core\\magics\\execution.py\", line 1335, in time\n",
      "    exec(code, glob, local_ns)\n",
      "  File \"<timed exec>\", line 3, in <module>\n",
      "  File \"C:\\Users\\Alpaca\\miniconda3\\lib\\site-packages\\networkx\\drawing\\layout.py\", line 689, in kamada_kawai_layout\n",
      "    dist = dict(nx.shortest_path_length(G, weight=weight))\n",
      "  File \"C:\\Users\\Alpaca\\miniconda3\\lib\\site-packages\\networkx\\algorithms\\shortest_paths\\weighted.py\", line 1063, in all_pairs_dijkstra_path_length\n",
      "    yield (n, length(G, n, cutoff=cutoff, weight=weight))\n",
      "  File \"C:\\Users\\Alpaca\\miniconda3\\lib\\site-packages\\networkx\\algorithms\\shortest_paths\\weighted.py\", line 373, in single_source_dijkstra_path_length\n",
      "    return multi_source_dijkstra_path_length(G, {source}, cutoff=cutoff, weight=weight)\n",
      "  File \"C:\\Users\\Alpaca\\miniconda3\\lib\\site-packages\\networkx\\algorithms\\shortest_paths\\weighted.py\", line 628, in multi_source_dijkstra_path_length\n",
      "    return _dijkstra_multisource(G, sources, weight, cutoff=cutoff)\n",
      "  File \"C:\\Users\\Alpaca\\miniconda3\\lib\\site-packages\\networkx\\algorithms\\shortest_paths\\weighted.py\", line 837, in _dijkstra_multisource\n",
      "    cost = weight(v, u, e)\n",
      "  File \"C:\\Users\\Alpaca\\miniconda3\\lib\\site-packages\\networkx\\algorithms\\shortest_paths\\weighted.py\", line 78, in <lambda>\n",
      "    return lambda u, v, data: data.get(weight, 1)\n",
      "KeyboardInterrupt\n",
      "\n",
      "During handling of the above exception, another exception occurred:\n",
      "\n",
      "Traceback (most recent call last):\n",
      "  File \"C:\\Users\\Alpaca\\AppData\\Roaming\\Python\\Python39\\site-packages\\IPython\\core\\interactiveshell.py\", line 3552, in run_code\n",
      "    exec(code_obj, self.user_global_ns, self.user_ns)\n",
      "  File \"C:\\Users\\Alpaca\\AppData\\Local\\Temp\\ipykernel_52692\\1423716304.py\", line 1, in <cell line: 1>\n",
      "    get_ipython().run_cell_magic('time', '', \"from matplotlib.collections import LineCollection\\n\\npos = nx.kamada_kawai_layout(g)\\nprint('we have pos')\\ninstability = np.array([v for _, v in most_stable.values()])\\n\\npoints = [np.array([pos[u] for u in path])\\n          for path, _ in most_stable.values()]\\n\\nn = len(points)\\nprint(n)\\ns = 3\\n\\nplt.figure(figsize=(s*n, s))\\ncolors = np.array(['lightgray', 'black'])\\n\\nfor i, path in enumerate(points):\\n    background = LineCollection(points, linewidth=6, color='lightgray')\\n    lines = LineCollection([path], color='black')\\n    \\n    ax = plt.subplot(1, n, i + 1)\\n    ax.add_collection(background)\\n    ax.add_collection(lines)\\n    ax.scatter(*path[[0, -1]].T, s=100, c='k', zorder=2)\\n    ax.autoscale_view()\\n\\n    plt.axis('equal')\\n    plt.xticks([])\\n    plt.yticks([])\\n    plt.title(f'{len(points[i])} / {instability[i]:.3f}')\\n    \\n#plt.savefig('small_multiples_movies.png')\\n\")\n",
      "  File \"C:\\Users\\Alpaca\\AppData\\Roaming\\Python\\Python39\\site-packages\\IPython\\core\\interactiveshell.py\", line 2472, in run_cell_magic\n",
      "    result = fn(*args, **kwargs)\n",
      "  File \"C:\\Users\\Alpaca\\miniconda3\\lib\\site-packages\\decorator.py\", line 232, in fun\n",
      "    return caller(func, *(extras + args), **kw)\n",
      "  File \"C:\\Users\\Alpaca\\AppData\\Roaming\\Python\\Python39\\site-packages\\IPython\\core\\magic.py\", line 187, in <lambda>\n",
      "    call = lambda f, *a, **k: f(*a, **k)\n",
      "  File \"C:\\Users\\Alpaca\\AppData\\Roaming\\Python\\Python39\\site-packages\\IPython\\core\\magics\\execution.py\", line 1342, in time\n",
      "    self.shell.showtraceback()\n",
      "KeyboardInterrupt\n",
      "\n",
      "During handling of the above exception, another exception occurred:\n",
      "\n",
      "Traceback (most recent call last):\n",
      "  File \"C:\\Users\\Alpaca\\AppData\\Roaming\\Python\\Python39\\site-packages\\IPython\\core\\interactiveshell.py\", line 2098, in showtraceback\n",
      "    stb = value._render_traceback_()\n",
      "AttributeError: 'KeyboardInterrupt' object has no attribute '_render_traceback_'\n",
      "\n",
      "During handling of the above exception, another exception occurred:\n",
      "\n",
      "Traceback (most recent call last):\n",
      "  File \"C:\\Users\\Alpaca\\AppData\\Roaming\\Python\\Python39\\site-packages\\IPython\\core\\ultratb.py\", line 1101, in get_records\n",
      "    return _fixed_getinnerframes(etb, number_of_lines_of_context, tb_offset)\n",
      "  File \"C:\\Users\\Alpaca\\AppData\\Roaming\\Python\\Python39\\site-packages\\IPython\\core\\ultratb.py\", line 248, in wrapped\n",
      "    return f(*args, **kwargs)\n",
      "  File \"C:\\Users\\Alpaca\\AppData\\Roaming\\Python\\Python39\\site-packages\\IPython\\core\\ultratb.py\", line 281, in _fixed_getinnerframes\n",
      "    records = fix_frame_records_filenames(inspect.getinnerframes(etb, context))\n",
      "  File \"C:\\Users\\Alpaca\\miniconda3\\lib\\inspect.py\", line 1541, in getinnerframes\n",
      "    frameinfo = (tb.tb_frame,) + getframeinfo(tb, context)\n",
      "  File \"C:\\Users\\Alpaca\\miniconda3\\lib\\inspect.py\", line 1499, in getframeinfo\n",
      "    filename = getsourcefile(frame) or getfile(frame)\n",
      "  File \"C:\\Users\\Alpaca\\miniconda3\\lib\\inspect.py\", line 706, in getsourcefile\n",
      "    if os.path.exists(filename):\n",
      "  File \"C:\\Users\\Alpaca\\miniconda3\\lib\\genericpath.py\", line 19, in exists\n",
      "    os.stat(path)\n",
      "KeyboardInterrupt\n"
     ]
    },
    {
     "ename": "TypeError",
     "evalue": "object of type 'NoneType' has no len()",
     "output_type": "error",
     "traceback": [
      "\u001b[1;31m---------------------------------------------------------------------------\u001b[0m",
      "\u001b[1;31mKeyboardInterrupt\u001b[0m                         Traceback (most recent call last)",
      "\u001b[1;32m~\\AppData\\Roaming\\Python\\Python39\\site-packages\\IPython\\core\\magics\\execution.py\u001b[0m in \u001b[0;36mtime\u001b[1;34m(self, line, cell, local_ns)\u001b[0m\n\u001b[0;32m   1334\u001b[0m             \u001b[1;32mtry\u001b[0m\u001b[1;33m:\u001b[0m\u001b[1;33m\u001b[0m\u001b[1;33m\u001b[0m\u001b[0m\n\u001b[1;32m-> 1335\u001b[1;33m                 \u001b[0mexec\u001b[0m\u001b[1;33m(\u001b[0m\u001b[0mcode\u001b[0m\u001b[1;33m,\u001b[0m \u001b[0mglob\u001b[0m\u001b[1;33m,\u001b[0m \u001b[0mlocal_ns\u001b[0m\u001b[1;33m)\u001b[0m\u001b[1;33m\u001b[0m\u001b[1;33m\u001b[0m\u001b[0m\n\u001b[0m\u001b[0;32m   1336\u001b[0m                 \u001b[0mout\u001b[0m\u001b[1;33m=\u001b[0m\u001b[1;32mNone\u001b[0m\u001b[1;33m\u001b[0m\u001b[1;33m\u001b[0m\u001b[0m\n",
      "\u001b[1;32m<timed exec>\u001b[0m in \u001b[0;36m<module>\u001b[1;34m\u001b[0m\n",
      "\u001b[1;32m~\\miniconda3\\lib\\site-packages\\networkx\\drawing\\layout.py\u001b[0m in \u001b[0;36mkamada_kawai_layout\u001b[1;34m(G, dist, pos, weight, scale, center, dim)\u001b[0m\n\u001b[0;32m    688\u001b[0m     \u001b[1;32mif\u001b[0m \u001b[0mdist\u001b[0m \u001b[1;32mis\u001b[0m \u001b[1;32mNone\u001b[0m\u001b[1;33m:\u001b[0m\u001b[1;33m\u001b[0m\u001b[1;33m\u001b[0m\u001b[0m\n\u001b[1;32m--> 689\u001b[1;33m         \u001b[0mdist\u001b[0m \u001b[1;33m=\u001b[0m \u001b[0mdict\u001b[0m\u001b[1;33m(\u001b[0m\u001b[0mnx\u001b[0m\u001b[1;33m.\u001b[0m\u001b[0mshortest_path_length\u001b[0m\u001b[1;33m(\u001b[0m\u001b[0mG\u001b[0m\u001b[1;33m,\u001b[0m \u001b[0mweight\u001b[0m\u001b[1;33m=\u001b[0m\u001b[0mweight\u001b[0m\u001b[1;33m)\u001b[0m\u001b[1;33m)\u001b[0m\u001b[1;33m\u001b[0m\u001b[1;33m\u001b[0m\u001b[0m\n\u001b[0m\u001b[0;32m    690\u001b[0m     \u001b[0mdist_mtx\u001b[0m \u001b[1;33m=\u001b[0m \u001b[1;36m1e6\u001b[0m \u001b[1;33m*\u001b[0m \u001b[0mnp\u001b[0m\u001b[1;33m.\u001b[0m\u001b[0mones\u001b[0m\u001b[1;33m(\u001b[0m\u001b[1;33m(\u001b[0m\u001b[0mnNodes\u001b[0m\u001b[1;33m,\u001b[0m \u001b[0mnNodes\u001b[0m\u001b[1;33m)\u001b[0m\u001b[1;33m)\u001b[0m\u001b[1;33m\u001b[0m\u001b[1;33m\u001b[0m\u001b[0m\n",
      "\u001b[1;32m~\\miniconda3\\lib\\site-packages\\networkx\\algorithms\\shortest_paths\\weighted.py\u001b[0m in \u001b[0;36mall_pairs_dijkstra_path_length\u001b[1;34m(G, cutoff, weight)\u001b[0m\n\u001b[0;32m   1062\u001b[0m     \u001b[1;32mfor\u001b[0m \u001b[0mn\u001b[0m \u001b[1;32min\u001b[0m \u001b[0mG\u001b[0m\u001b[1;33m:\u001b[0m\u001b[1;33m\u001b[0m\u001b[1;33m\u001b[0m\u001b[0m\n\u001b[1;32m-> 1063\u001b[1;33m         \u001b[1;32myield\u001b[0m \u001b[1;33m(\u001b[0m\u001b[0mn\u001b[0m\u001b[1;33m,\u001b[0m \u001b[0mlength\u001b[0m\u001b[1;33m(\u001b[0m\u001b[0mG\u001b[0m\u001b[1;33m,\u001b[0m \u001b[0mn\u001b[0m\u001b[1;33m,\u001b[0m \u001b[0mcutoff\u001b[0m\u001b[1;33m=\u001b[0m\u001b[0mcutoff\u001b[0m\u001b[1;33m,\u001b[0m \u001b[0mweight\u001b[0m\u001b[1;33m=\u001b[0m\u001b[0mweight\u001b[0m\u001b[1;33m)\u001b[0m\u001b[1;33m)\u001b[0m\u001b[1;33m\u001b[0m\u001b[1;33m\u001b[0m\u001b[0m\n\u001b[0m\u001b[0;32m   1064\u001b[0m \u001b[1;33m\u001b[0m\u001b[0m\n",
      "\u001b[1;32m~\\miniconda3\\lib\\site-packages\\networkx\\algorithms\\shortest_paths\\weighted.py\u001b[0m in \u001b[0;36msingle_source_dijkstra_path_length\u001b[1;34m(G, source, cutoff, weight)\u001b[0m\n\u001b[0;32m    372\u001b[0m     \"\"\"\n\u001b[1;32m--> 373\u001b[1;33m     \u001b[1;32mreturn\u001b[0m \u001b[0mmulti_source_dijkstra_path_length\u001b[0m\u001b[1;33m(\u001b[0m\u001b[0mG\u001b[0m\u001b[1;33m,\u001b[0m \u001b[1;33m{\u001b[0m\u001b[0msource\u001b[0m\u001b[1;33m}\u001b[0m\u001b[1;33m,\u001b[0m \u001b[0mcutoff\u001b[0m\u001b[1;33m=\u001b[0m\u001b[0mcutoff\u001b[0m\u001b[1;33m,\u001b[0m \u001b[0mweight\u001b[0m\u001b[1;33m=\u001b[0m\u001b[0mweight\u001b[0m\u001b[1;33m)\u001b[0m\u001b[1;33m\u001b[0m\u001b[1;33m\u001b[0m\u001b[0m\n\u001b[0m\u001b[0;32m    374\u001b[0m \u001b[1;33m\u001b[0m\u001b[0m\n",
      "\u001b[1;32m~\\miniconda3\\lib\\site-packages\\networkx\\algorithms\\shortest_paths\\weighted.py\u001b[0m in \u001b[0;36mmulti_source_dijkstra_path_length\u001b[1;34m(G, sources, cutoff, weight)\u001b[0m\n\u001b[0;32m    627\u001b[0m     \u001b[0mweight\u001b[0m \u001b[1;33m=\u001b[0m \u001b[0m_weight_function\u001b[0m\u001b[1;33m(\u001b[0m\u001b[0mG\u001b[0m\u001b[1;33m,\u001b[0m \u001b[0mweight\u001b[0m\u001b[1;33m)\u001b[0m\u001b[1;33m\u001b[0m\u001b[1;33m\u001b[0m\u001b[0m\n\u001b[1;32m--> 628\u001b[1;33m     \u001b[1;32mreturn\u001b[0m \u001b[0m_dijkstra_multisource\u001b[0m\u001b[1;33m(\u001b[0m\u001b[0mG\u001b[0m\u001b[1;33m,\u001b[0m \u001b[0msources\u001b[0m\u001b[1;33m,\u001b[0m \u001b[0mweight\u001b[0m\u001b[1;33m,\u001b[0m \u001b[0mcutoff\u001b[0m\u001b[1;33m=\u001b[0m\u001b[0mcutoff\u001b[0m\u001b[1;33m)\u001b[0m\u001b[1;33m\u001b[0m\u001b[1;33m\u001b[0m\u001b[0m\n\u001b[0m\u001b[0;32m    629\u001b[0m \u001b[1;33m\u001b[0m\u001b[0m\n",
      "\u001b[1;32m~\\miniconda3\\lib\\site-packages\\networkx\\algorithms\\shortest_paths\\weighted.py\u001b[0m in \u001b[0;36m_dijkstra_multisource\u001b[1;34m(G, sources, weight, pred, paths, cutoff, target)\u001b[0m\n\u001b[0;32m    836\u001b[0m         \u001b[1;32mfor\u001b[0m \u001b[0mu\u001b[0m\u001b[1;33m,\u001b[0m \u001b[0me\u001b[0m \u001b[1;32min\u001b[0m \u001b[0mG_succ\u001b[0m\u001b[1;33m[\u001b[0m\u001b[0mv\u001b[0m\u001b[1;33m]\u001b[0m\u001b[1;33m.\u001b[0m\u001b[0mitems\u001b[0m\u001b[1;33m(\u001b[0m\u001b[1;33m)\u001b[0m\u001b[1;33m:\u001b[0m\u001b[1;33m\u001b[0m\u001b[1;33m\u001b[0m\u001b[0m\n\u001b[1;32m--> 837\u001b[1;33m             \u001b[0mcost\u001b[0m \u001b[1;33m=\u001b[0m \u001b[0mweight\u001b[0m\u001b[1;33m(\u001b[0m\u001b[0mv\u001b[0m\u001b[1;33m,\u001b[0m \u001b[0mu\u001b[0m\u001b[1;33m,\u001b[0m \u001b[0me\u001b[0m\u001b[1;33m)\u001b[0m\u001b[1;33m\u001b[0m\u001b[1;33m\u001b[0m\u001b[0m\n\u001b[0m\u001b[0;32m    838\u001b[0m             \u001b[1;32mif\u001b[0m \u001b[0mcost\u001b[0m \u001b[1;32mis\u001b[0m \u001b[1;32mNone\u001b[0m\u001b[1;33m:\u001b[0m\u001b[1;33m\u001b[0m\u001b[1;33m\u001b[0m\u001b[0m\n",
      "\u001b[1;32m~\\miniconda3\\lib\\site-packages\\networkx\\algorithms\\shortest_paths\\weighted.py\u001b[0m in \u001b[0;36m<lambda>\u001b[1;34m(u, v, data)\u001b[0m\n\u001b[0;32m     77\u001b[0m         \u001b[1;32mreturn\u001b[0m \u001b[1;32mlambda\u001b[0m \u001b[0mu\u001b[0m\u001b[1;33m,\u001b[0m \u001b[0mv\u001b[0m\u001b[1;33m,\u001b[0m \u001b[0md\u001b[0m\u001b[1;33m:\u001b[0m \u001b[0mmin\u001b[0m\u001b[1;33m(\u001b[0m\u001b[0mattr\u001b[0m\u001b[1;33m.\u001b[0m\u001b[0mget\u001b[0m\u001b[1;33m(\u001b[0m\u001b[0mweight\u001b[0m\u001b[1;33m,\u001b[0m \u001b[1;36m1\u001b[0m\u001b[1;33m)\u001b[0m \u001b[1;32mfor\u001b[0m \u001b[0mattr\u001b[0m \u001b[1;32min\u001b[0m \u001b[0md\u001b[0m\u001b[1;33m.\u001b[0m\u001b[0mvalues\u001b[0m\u001b[1;33m(\u001b[0m\u001b[1;33m)\u001b[0m\u001b[1;33m)\u001b[0m\u001b[1;33m\u001b[0m\u001b[1;33m\u001b[0m\u001b[0m\n\u001b[1;32m---> 78\u001b[1;33m     \u001b[1;32mreturn\u001b[0m \u001b[1;32mlambda\u001b[0m \u001b[0mu\u001b[0m\u001b[1;33m,\u001b[0m \u001b[0mv\u001b[0m\u001b[1;33m,\u001b[0m \u001b[0mdata\u001b[0m\u001b[1;33m:\u001b[0m \u001b[0mdata\u001b[0m\u001b[1;33m.\u001b[0m\u001b[0mget\u001b[0m\u001b[1;33m(\u001b[0m\u001b[0mweight\u001b[0m\u001b[1;33m,\u001b[0m \u001b[1;36m1\u001b[0m\u001b[1;33m)\u001b[0m\u001b[1;33m\u001b[0m\u001b[1;33m\u001b[0m\u001b[0m\n\u001b[0m\u001b[0;32m     79\u001b[0m \u001b[1;33m\u001b[0m\u001b[0m\n",
      "\u001b[1;31mKeyboardInterrupt\u001b[0m: ",
      "\nDuring handling of the above exception, another exception occurred:\n",
      "\u001b[1;31mKeyboardInterrupt\u001b[0m                         Traceback (most recent call last)",
      "    \u001b[1;31m[... skipping hidden 1 frame]\u001b[0m\n",
      "\u001b[1;32m~\\AppData\\Local\\Temp\\ipykernel_52692\\1423716304.py\u001b[0m in \u001b[0;36m<cell line: 1>\u001b[1;34m()\u001b[0m\n\u001b[1;32m----> 1\u001b[1;33m \u001b[0mget_ipython\u001b[0m\u001b[1;33m(\u001b[0m\u001b[1;33m)\u001b[0m\u001b[1;33m.\u001b[0m\u001b[0mrun_cell_magic\u001b[0m\u001b[1;33m(\u001b[0m\u001b[1;34m'time'\u001b[0m\u001b[1;33m,\u001b[0m \u001b[1;34m''\u001b[0m\u001b[1;33m,\u001b[0m \u001b[1;34m\"from matplotlib.collections import LineCollection\\n\\npos = nx.kamada_kawai_layout(g)\\nprint('we have pos')\\ninstability = np.array([v for _, v in most_stable.values()])\\n\\npoints = [np.array([pos[u] for u in path])\\n          for path, _ in most_stable.values()]\\n\\nn = len(points)\\nprint(n)\\ns = 3\\n\\nplt.figure(figsize=(s*n, s))\\ncolors = np.array(['lightgray', 'black'])\\n\\nfor i, path in enumerate(points):\\n    background = LineCollection(points, linewidth=6, color='lightgray')\\n    lines = LineCollection([path], color='black')\\n    \\n    ax = plt.subplot(1, n, i + 1)\\n    ax.add_collection(background)\\n    ax.add_collection(lines)\\n    ax.scatter(*path[[0, -1]].T, s=100, c='k', zorder=2)\\n    ax.autoscale_view()\\n\\n    plt.axis('equal')\\n    plt.xticks([])\\n    plt.yticks([])\\n    plt.title(f'{len(points[i])} / {instability[i]:.3f}')\\n    \\n#plt.savefig('small_multiples_movies.png')\\n\"\u001b[0m\u001b[1;33m)\u001b[0m\u001b[1;33m\u001b[0m\u001b[1;33m\u001b[0m\u001b[0m\n\u001b[0m",
      "\u001b[1;32m~\\AppData\\Roaming\\Python\\Python39\\site-packages\\IPython\\core\\interactiveshell.py\u001b[0m in \u001b[0;36mrun_cell_magic\u001b[1;34m(self, magic_name, line, cell)\u001b[0m\n\u001b[0;32m   2471\u001b[0m                 \u001b[0margs\u001b[0m \u001b[1;33m=\u001b[0m \u001b[1;33m(\u001b[0m\u001b[0mmagic_arg_s\u001b[0m\u001b[1;33m,\u001b[0m \u001b[0mcell\u001b[0m\u001b[1;33m)\u001b[0m\u001b[1;33m\u001b[0m\u001b[1;33m\u001b[0m\u001b[0m\n\u001b[1;32m-> 2472\u001b[1;33m                 \u001b[0mresult\u001b[0m \u001b[1;33m=\u001b[0m \u001b[0mfn\u001b[0m\u001b[1;33m(\u001b[0m\u001b[1;33m*\u001b[0m\u001b[0margs\u001b[0m\u001b[1;33m,\u001b[0m \u001b[1;33m**\u001b[0m\u001b[0mkwargs\u001b[0m\u001b[1;33m)\u001b[0m\u001b[1;33m\u001b[0m\u001b[1;33m\u001b[0m\u001b[0m\n\u001b[0m\u001b[0;32m   2473\u001b[0m             \u001b[1;32mreturn\u001b[0m \u001b[0mresult\u001b[0m\u001b[1;33m\u001b[0m\u001b[1;33m\u001b[0m\u001b[0m\n",
      "\u001b[1;32m~\\miniconda3\\lib\\site-packages\\decorator.py\u001b[0m in \u001b[0;36mfun\u001b[1;34m(*args, **kw)\u001b[0m\n\u001b[0;32m    231\u001b[0m                 \u001b[0margs\u001b[0m\u001b[1;33m,\u001b[0m \u001b[0mkw\u001b[0m \u001b[1;33m=\u001b[0m \u001b[0mfix\u001b[0m\u001b[1;33m(\u001b[0m\u001b[0margs\u001b[0m\u001b[1;33m,\u001b[0m \u001b[0mkw\u001b[0m\u001b[1;33m,\u001b[0m \u001b[0msig\u001b[0m\u001b[1;33m)\u001b[0m\u001b[1;33m\u001b[0m\u001b[1;33m\u001b[0m\u001b[0m\n\u001b[1;32m--> 232\u001b[1;33m             \u001b[1;32mreturn\u001b[0m \u001b[0mcaller\u001b[0m\u001b[1;33m(\u001b[0m\u001b[0mfunc\u001b[0m\u001b[1;33m,\u001b[0m \u001b[1;33m*\u001b[0m\u001b[1;33m(\u001b[0m\u001b[0mextras\u001b[0m \u001b[1;33m+\u001b[0m \u001b[0margs\u001b[0m\u001b[1;33m)\u001b[0m\u001b[1;33m,\u001b[0m \u001b[1;33m**\u001b[0m\u001b[0mkw\u001b[0m\u001b[1;33m)\u001b[0m\u001b[1;33m\u001b[0m\u001b[1;33m\u001b[0m\u001b[0m\n\u001b[0m\u001b[0;32m    233\u001b[0m     \u001b[0mfun\u001b[0m\u001b[1;33m.\u001b[0m\u001b[0m__name__\u001b[0m \u001b[1;33m=\u001b[0m \u001b[0mfunc\u001b[0m\u001b[1;33m.\u001b[0m\u001b[0m__name__\u001b[0m\u001b[1;33m\u001b[0m\u001b[1;33m\u001b[0m\u001b[0m\n",
      "\u001b[1;32m~\\AppData\\Roaming\\Python\\Python39\\site-packages\\IPython\\core\\magic.py\u001b[0m in \u001b[0;36m<lambda>\u001b[1;34m(f, *a, **k)\u001b[0m\n\u001b[0;32m    186\u001b[0m     \u001b[1;32mdef\u001b[0m \u001b[0mmagic_deco\u001b[0m\u001b[1;33m(\u001b[0m\u001b[0marg\u001b[0m\u001b[1;33m)\u001b[0m\u001b[1;33m:\u001b[0m\u001b[1;33m\u001b[0m\u001b[1;33m\u001b[0m\u001b[0m\n\u001b[1;32m--> 187\u001b[1;33m         \u001b[0mcall\u001b[0m \u001b[1;33m=\u001b[0m \u001b[1;32mlambda\u001b[0m \u001b[0mf\u001b[0m\u001b[1;33m,\u001b[0m \u001b[1;33m*\u001b[0m\u001b[0ma\u001b[0m\u001b[1;33m,\u001b[0m \u001b[1;33m**\u001b[0m\u001b[0mk\u001b[0m\u001b[1;33m:\u001b[0m \u001b[0mf\u001b[0m\u001b[1;33m(\u001b[0m\u001b[1;33m*\u001b[0m\u001b[0ma\u001b[0m\u001b[1;33m,\u001b[0m \u001b[1;33m**\u001b[0m\u001b[0mk\u001b[0m\u001b[1;33m)\u001b[0m\u001b[1;33m\u001b[0m\u001b[1;33m\u001b[0m\u001b[0m\n\u001b[0m\u001b[0;32m    188\u001b[0m \u001b[1;33m\u001b[0m\u001b[0m\n",
      "\u001b[1;32m~\\AppData\\Roaming\\Python\\Python39\\site-packages\\IPython\\core\\magics\\execution.py\u001b[0m in \u001b[0;36mtime\u001b[1;34m(self, line, cell, local_ns)\u001b[0m\n\u001b[0;32m   1341\u001b[0m             \u001b[1;32mexcept\u001b[0m\u001b[1;33m:\u001b[0m\u001b[1;33m\u001b[0m\u001b[1;33m\u001b[0m\u001b[0m\n\u001b[1;32m-> 1342\u001b[1;33m                 \u001b[0mself\u001b[0m\u001b[1;33m.\u001b[0m\u001b[0mshell\u001b[0m\u001b[1;33m.\u001b[0m\u001b[0mshowtraceback\u001b[0m\u001b[1;33m(\u001b[0m\u001b[1;33m)\u001b[0m\u001b[1;33m\u001b[0m\u001b[1;33m\u001b[0m\u001b[0m\n\u001b[0m\u001b[0;32m   1343\u001b[0m                 \u001b[1;32mreturn\u001b[0m\u001b[1;33m\u001b[0m\u001b[1;33m\u001b[0m\u001b[0m\n",
      "\u001b[1;31mKeyboardInterrupt\u001b[0m: ",
      "\nDuring handling of the above exception, another exception occurred:\n",
      "\u001b[1;31mAttributeError\u001b[0m                            Traceback (most recent call last)",
      "\u001b[1;32m~\\AppData\\Roaming\\Python\\Python39\\site-packages\\IPython\\core\\interactiveshell.py\u001b[0m in \u001b[0;36mshowtraceback\u001b[1;34m(self, exc_tuple, filename, tb_offset, exception_only, running_compiled_code)\u001b[0m\n\u001b[0;32m   2097\u001b[0m                         \u001b[1;31m# in the engines. This should return a list of strings.\u001b[0m\u001b[1;33m\u001b[0m\u001b[1;33m\u001b[0m\u001b[0m\n\u001b[1;32m-> 2098\u001b[1;33m                         \u001b[0mstb\u001b[0m \u001b[1;33m=\u001b[0m \u001b[0mvalue\u001b[0m\u001b[1;33m.\u001b[0m\u001b[0m_render_traceback_\u001b[0m\u001b[1;33m(\u001b[0m\u001b[1;33m)\u001b[0m\u001b[1;33m\u001b[0m\u001b[1;33m\u001b[0m\u001b[0m\n\u001b[0m\u001b[0;32m   2099\u001b[0m                     \u001b[1;32mexcept\u001b[0m \u001b[0mException\u001b[0m\u001b[1;33m:\u001b[0m\u001b[1;33m\u001b[0m\u001b[1;33m\u001b[0m\u001b[0m\n",
      "\u001b[1;31mAttributeError\u001b[0m: 'KeyboardInterrupt' object has no attribute '_render_traceback_'",
      "\nDuring handling of the above exception, another exception occurred:\n",
      "\u001b[1;31mTypeError\u001b[0m                                 Traceback (most recent call last)",
      "    \u001b[1;31m[... skipping hidden 1 frame]\u001b[0m\n",
      "\u001b[1;32m~\\AppData\\Roaming\\Python\\Python39\\site-packages\\IPython\\core\\interactiveshell.py\u001b[0m in \u001b[0;36mshowtraceback\u001b[1;34m(self, exc_tuple, filename, tb_offset, exception_only, running_compiled_code)\u001b[0m\n\u001b[0;32m   2098\u001b[0m                         \u001b[0mstb\u001b[0m \u001b[1;33m=\u001b[0m \u001b[0mvalue\u001b[0m\u001b[1;33m.\u001b[0m\u001b[0m_render_traceback_\u001b[0m\u001b[1;33m(\u001b[0m\u001b[1;33m)\u001b[0m\u001b[1;33m\u001b[0m\u001b[1;33m\u001b[0m\u001b[0m\n\u001b[0;32m   2099\u001b[0m                     \u001b[1;32mexcept\u001b[0m \u001b[0mException\u001b[0m\u001b[1;33m:\u001b[0m\u001b[1;33m\u001b[0m\u001b[1;33m\u001b[0m\u001b[0m\n\u001b[1;32m-> 2100\u001b[1;33m                         stb = self.InteractiveTB.structured_traceback(etype,\n\u001b[0m\u001b[0;32m   2101\u001b[0m                                             value, tb, tb_offset=tb_offset)\n\u001b[0;32m   2102\u001b[0m \u001b[1;33m\u001b[0m\u001b[0m\n",
      "\u001b[1;32m~\\AppData\\Roaming\\Python\\Python39\\site-packages\\IPython\\core\\ultratb.py\u001b[0m in \u001b[0;36mstructured_traceback\u001b[1;34m(self, etype, value, tb, tb_offset, number_of_lines_of_context)\u001b[0m\n\u001b[0;32m   1365\u001b[0m         \u001b[1;32melse\u001b[0m\u001b[1;33m:\u001b[0m\u001b[1;33m\u001b[0m\u001b[1;33m\u001b[0m\u001b[0m\n\u001b[0;32m   1366\u001b[0m             \u001b[0mself\u001b[0m\u001b[1;33m.\u001b[0m\u001b[0mtb\u001b[0m \u001b[1;33m=\u001b[0m \u001b[0mtb\u001b[0m\u001b[1;33m\u001b[0m\u001b[1;33m\u001b[0m\u001b[0m\n\u001b[1;32m-> 1367\u001b[1;33m         return FormattedTB.structured_traceback(\n\u001b[0m\u001b[0;32m   1368\u001b[0m             self, etype, value, tb, tb_offset, number_of_lines_of_context)\n\u001b[0;32m   1369\u001b[0m \u001b[1;33m\u001b[0m\u001b[0m\n",
      "\u001b[1;32m~\\AppData\\Roaming\\Python\\Python39\\site-packages\\IPython\\core\\ultratb.py\u001b[0m in \u001b[0;36mstructured_traceback\u001b[1;34m(self, etype, value, tb, tb_offset, number_of_lines_of_context)\u001b[0m\n\u001b[0;32m   1265\u001b[0m         \u001b[1;32mif\u001b[0m \u001b[0mmode\u001b[0m \u001b[1;32min\u001b[0m \u001b[0mself\u001b[0m\u001b[1;33m.\u001b[0m\u001b[0mverbose_modes\u001b[0m\u001b[1;33m:\u001b[0m\u001b[1;33m\u001b[0m\u001b[1;33m\u001b[0m\u001b[0m\n\u001b[0;32m   1266\u001b[0m             \u001b[1;31m# Verbose modes need a full traceback\u001b[0m\u001b[1;33m\u001b[0m\u001b[1;33m\u001b[0m\u001b[0m\n\u001b[1;32m-> 1267\u001b[1;33m             return VerboseTB.structured_traceback(\n\u001b[0m\u001b[0;32m   1268\u001b[0m                 \u001b[0mself\u001b[0m\u001b[1;33m,\u001b[0m \u001b[0metype\u001b[0m\u001b[1;33m,\u001b[0m \u001b[0mvalue\u001b[0m\u001b[1;33m,\u001b[0m \u001b[0mtb\u001b[0m\u001b[1;33m,\u001b[0m \u001b[0mtb_offset\u001b[0m\u001b[1;33m,\u001b[0m \u001b[0mnumber_of_lines_of_context\u001b[0m\u001b[1;33m\u001b[0m\u001b[1;33m\u001b[0m\u001b[0m\n\u001b[0;32m   1269\u001b[0m             )\n",
      "\u001b[1;32m~\\AppData\\Roaming\\Python\\Python39\\site-packages\\IPython\\core\\ultratb.py\u001b[0m in \u001b[0;36mstructured_traceback\u001b[1;34m(self, etype, evalue, etb, tb_offset, number_of_lines_of_context)\u001b[0m\n\u001b[0;32m   1122\u001b[0m         \u001b[1;34m\"\"\"Return a nice text document describing the traceback.\"\"\"\u001b[0m\u001b[1;33m\u001b[0m\u001b[1;33m\u001b[0m\u001b[0m\n\u001b[0;32m   1123\u001b[0m \u001b[1;33m\u001b[0m\u001b[0m\n\u001b[1;32m-> 1124\u001b[1;33m         formatted_exception = self.format_exception_as_a_whole(etype, evalue, etb, number_of_lines_of_context,\n\u001b[0m\u001b[0;32m   1125\u001b[0m                                                                tb_offset)\n\u001b[0;32m   1126\u001b[0m \u001b[1;33m\u001b[0m\u001b[0m\n",
      "\u001b[1;32m~\\AppData\\Roaming\\Python\\Python39\\site-packages\\IPython\\core\\ultratb.py\u001b[0m in \u001b[0;36mformat_exception_as_a_whole\u001b[1;34m(self, etype, evalue, etb, number_of_lines_of_context, tb_offset)\u001b[0m\n\u001b[0;32m   1080\u001b[0m \u001b[1;33m\u001b[0m\u001b[0m\n\u001b[0;32m   1081\u001b[0m \u001b[1;33m\u001b[0m\u001b[0m\n\u001b[1;32m-> 1082\u001b[1;33m         \u001b[0mlast_unique\u001b[0m\u001b[1;33m,\u001b[0m \u001b[0mrecursion_repeat\u001b[0m \u001b[1;33m=\u001b[0m \u001b[0mfind_recursion\u001b[0m\u001b[1;33m(\u001b[0m\u001b[0morig_etype\u001b[0m\u001b[1;33m,\u001b[0m \u001b[0mevalue\u001b[0m\u001b[1;33m,\u001b[0m \u001b[0mrecords\u001b[0m\u001b[1;33m)\u001b[0m\u001b[1;33m\u001b[0m\u001b[1;33m\u001b[0m\u001b[0m\n\u001b[0m\u001b[0;32m   1083\u001b[0m \u001b[1;33m\u001b[0m\u001b[0m\n\u001b[0;32m   1084\u001b[0m         \u001b[0mframes\u001b[0m \u001b[1;33m=\u001b[0m \u001b[0mself\u001b[0m\u001b[1;33m.\u001b[0m\u001b[0mformat_records\u001b[0m\u001b[1;33m(\u001b[0m\u001b[0mrecords\u001b[0m\u001b[1;33m,\u001b[0m \u001b[0mlast_unique\u001b[0m\u001b[1;33m,\u001b[0m \u001b[0mrecursion_repeat\u001b[0m\u001b[1;33m)\u001b[0m\u001b[1;33m\u001b[0m\u001b[1;33m\u001b[0m\u001b[0m\n",
      "\u001b[1;32m~\\AppData\\Roaming\\Python\\Python39\\site-packages\\IPython\\core\\ultratb.py\u001b[0m in \u001b[0;36mfind_recursion\u001b[1;34m(etype, value, records)\u001b[0m\n\u001b[0;32m    380\u001b[0m     \u001b[1;31m# first frame (from in to out) that looks different.\u001b[0m\u001b[1;33m\u001b[0m\u001b[1;33m\u001b[0m\u001b[0m\n\u001b[0;32m    381\u001b[0m     \u001b[1;32mif\u001b[0m \u001b[1;32mnot\u001b[0m \u001b[0mis_recursion_error\u001b[0m\u001b[1;33m(\u001b[0m\u001b[0metype\u001b[0m\u001b[1;33m,\u001b[0m \u001b[0mvalue\u001b[0m\u001b[1;33m,\u001b[0m \u001b[0mrecords\u001b[0m\u001b[1;33m)\u001b[0m\u001b[1;33m:\u001b[0m\u001b[1;33m\u001b[0m\u001b[1;33m\u001b[0m\u001b[0m\n\u001b[1;32m--> 382\u001b[1;33m         \u001b[1;32mreturn\u001b[0m \u001b[0mlen\u001b[0m\u001b[1;33m(\u001b[0m\u001b[0mrecords\u001b[0m\u001b[1;33m)\u001b[0m\u001b[1;33m,\u001b[0m \u001b[1;36m0\u001b[0m\u001b[1;33m\u001b[0m\u001b[1;33m\u001b[0m\u001b[0m\n\u001b[0m\u001b[0;32m    383\u001b[0m \u001b[1;33m\u001b[0m\u001b[0m\n\u001b[0;32m    384\u001b[0m     \u001b[1;31m# Select filename, lineno, func_name to track frames with\u001b[0m\u001b[1;33m\u001b[0m\u001b[1;33m\u001b[0m\u001b[0m\n",
      "\u001b[1;31mTypeError\u001b[0m: object of type 'NoneType' has no len()"
     ]
    }
   ],
   "source": [
    "%%time\n",
    "from matplotlib.collections import LineCollection\n",
    "\n",
    "pos = nx.kamada_kawai_layout(g)\n",
    "print('we have pos')\n",
    "instability = np.array([v for _, v in most_stable.values()])\n",
    "\n",
    "points = [np.array([pos[u] for u in path])\n",
    "          for path, _ in most_stable.values()]\n",
    "\n",
    "n = len(points)\n",
    "print(n)\n",
    "s = 3\n",
    "\n",
    "plt.figure(figsize=(s*n, s))\n",
    "colors = np.array(['lightgray', 'black'])\n",
    "\n",
    "for i, path in enumerate(points):\n",
    "    background = LineCollection(points, linewidth=6, color='lightgray')\n",
    "    lines = LineCollection([path], color='black')\n",
    "    \n",
    "    ax = plt.subplot(1, n, i + 1)\n",
    "    ax.add_collection(background)\n",
    "    ax.add_collection(lines)\n",
    "    ax.scatter(*path[[0, -1]].T, s=100, c='k', zorder=2)\n",
    "    ax.autoscale_view()\n",
    "\n",
    "    plt.axis('equal')\n",
    "    plt.xticks([])\n",
    "    plt.yticks([])\n",
    "    plt.title(f'{len(points[i])} / {instability[i]:.3f}')\n",
    "    \n",
    "#plt.savefig('small_multiples_movies.png')"
   ]
  },
  {
   "cell_type": "markdown",
   "metadata": {},
   "source": [
    "## Plot the pareto frontier on the graph using kamada kawaii and UMAP"
   ]
  },
  {
   "cell_type": "code",
   "execution_count": 321,
   "metadata": {},
   "outputs": [
    {
     "ename": "AttributeError",
     "evalue": "module 'paths' has no attribute 'draw'",
     "output_type": "error",
     "traceback": [
      "\u001b[1;31m---------------------------------------------------------------------------\u001b[0m",
      "\u001b[1;31mAttributeError\u001b[0m                            Traceback (most recent call last)",
      "\u001b[1;32m~\\AppData\\Local\\Temp\\ipykernel_52692\\3488023615.py\u001b[0m in \u001b[0;36m<cell line: 2>\u001b[1;34m()\u001b[0m\n\u001b[0;32m      1\u001b[0m \u001b[0mgcc\u001b[0m \u001b[1;33m=\u001b[0m \u001b[0mg\u001b[0m\u001b[1;33m.\u001b[0m\u001b[0msubgraph\u001b[0m\u001b[1;33m(\u001b[0m\u001b[0mmax\u001b[0m\u001b[1;33m(\u001b[0m\u001b[0mnx\u001b[0m\u001b[1;33m.\u001b[0m\u001b[0mconnected_components\u001b[0m\u001b[1;33m(\u001b[0m\u001b[0mg\u001b[0m\u001b[1;33m)\u001b[0m\u001b[1;33m,\u001b[0m \u001b[0mkey\u001b[0m\u001b[1;33m=\u001b[0m\u001b[0mlen\u001b[0m\u001b[1;33m)\u001b[0m\u001b[1;33m)\u001b[0m\u001b[1;33m\u001b[0m\u001b[1;33m\u001b[0m\u001b[0m\n\u001b[1;32m----> 2\u001b[1;33m \u001b[0mpaths\u001b[0m\u001b[1;33m.\u001b[0m\u001b[0mdraw\u001b[0m\u001b[1;33m.\u001b[0m\u001b[0mdraw_stable_paths\u001b[0m\u001b[1;33m(\u001b[0m\u001b[0mgcc\u001b[0m\u001b[1;33m,\u001b[0m \u001b[0mmost_stable\u001b[0m\u001b[1;33m,\u001b[0m \u001b[0mchainsaw\u001b[0m\u001b[1;33m,\u001b[0m \u001b[0mmulan\u001b[0m\u001b[1;33m)\u001b[0m\u001b[1;33m\u001b[0m\u001b[1;33m\u001b[0m\u001b[0m\n\u001b[0m",
      "\u001b[1;31mAttributeError\u001b[0m: module 'paths' has no attribute 'draw'"
     ]
    }
   ],
   "source": [
    "gcc = g.subgraph(max(nx.connected_components(g), key=len))\n",
    "paths.draw.draw_stable_paths(gcc, most_stable, chainsaw, mulan)"
   ]
  },
  {
   "cell_type": "code",
   "execution_count": 449,
   "metadata": {},
   "outputs": [],
   "source": [
    "def UMAP_positions(g, filtration):\n",
    "\n",
    "    def distances_fast(g, vertices, vertex_map):\n",
    "        \"\"\"This shouldn't be used, it was a first pass, fast but not very accurate.\"\"\"\n",
    "        dists = np.zeros((len(vertices), len(vertices)))\n",
    "        from itertools import combinations\n",
    "        for s,e in combinations(vertices, 2):\n",
    "\n",
    "            if (s,e) in g.edges:\n",
    "                dists[vertex_map[e], vertex_map[s]] = g.edges[s,e]['dist']\n",
    "                dists[vertex_map[s], vertex_map[e]] = g.edges[s,e]['dist']\n",
    "            elif (e,s) in g.edges:\n",
    "                print(\"edge backwards is in\")\n",
    "            else:\n",
    "                dists[vertex_map[e], vertex_map[s]] = 10\n",
    "                dists[vertex_map[s], vertex_map[e]] = 10\n",
    "\n",
    "        return dists\n",
    "\n",
    "    vertices = [v[0][0] for v in filtration if len(v[0]) == 1]\n",
    "    vertex_map = {v:k for k,v in enumerate(vertices)}\n",
    "    dists = distances_fast(g, vertices, vertex_map)\n",
    "    print(\"Found distances\")\n",
    "\n",
    "    embedding = umap.UMAP(n_neighbors=10, metric='precomputed').fit_transform(dists)\n",
    "    print(\"umap embedding computed\")\n",
    "    keys = np.array(list(vertex_map.keys()))\n",
    "    pos = {k: embedding[v] for k,v in vertex_map.items()}\n",
    "    \n",
    "    return embedding, pos, keys"
   ]
  },
  {
   "cell_type": "code",
   "execution_count": 451,
   "metadata": {},
   "outputs": [
    {
     "name": "stdout",
     "output_type": "stream",
     "text": [
      "Found distances\n"
     ]
    },
    {
     "name": "stderr",
     "output_type": "stream",
     "text": [
      "C:\\Users\\Alpaca\\miniconda3\\lib\\site-packages\\umap\\umap_.py:1735: UserWarning: using precomputed metric; transform will be unavailable for new data and inverse_transform will be unavailable for all data\n",
      "  warn(\n"
     ]
    },
    {
     "name": "stdout",
     "output_type": "stream",
     "text": [
      "umap embedding computed\n",
      "Wall time: 4min 34s\n"
     ]
    }
   ],
   "source": [
    "%%time\n",
    "embedding, pos, keys = UMAP_positions(g, filtration)\n",
    "#paths.draw.draw_stable_paths(g, most_stable, list(movies_map.keys())[10], list(movies_map.keys())[20], pos=pos)"
   ]
  },
  {
   "cell_type": "code",
   "execution_count": null,
   "metadata": {},
   "outputs": [],
   "source": []
  },
  {
   "cell_type": "markdown",
   "metadata": {},
   "source": [
    "## Cluster the UMAP embedding and see how well it clustered"
   ]
  },
  {
   "cell_type": "code",
   "execution_count": 455,
   "metadata": {},
   "outputs": [
    {
     "name": "stdout",
     "output_type": "stream",
     "text": [
      "Wall time: 963 µs\n"
     ]
    }
   ],
   "source": [
    "%%time\n",
    "from sklearn import cluster\n",
    "\n",
    "def genre_hist(genres_list, v, ax):\n",
    "    from collections import Counter\n",
    "    each = [g for x in genres_list for g in x.split('|')]\n",
    "    c = dict(Counter(each))\n",
    "    \n",
    "    cs = []\n",
    "    for m in MAJOR_CATS:\n",
    "        if m in c.keys():\n",
    "            cs.append(c[m])\n",
    "        else:\n",
    "            cs.append(0)\n",
    "        \n",
    "    cmap = plt.get_cmap(\"tab10\")\n",
    "    \n",
    "    ax.bar(range(len(MAJOR_CATS)), cs, align='center', color=cmap(int(v)), alpha=0.5)\n",
    "    ax.set_xticks(range(len(MAJOR_CATS)))\n",
    "    ax.set_xticklabels( list(MAJOR_CATS), rotation=45 )"
   ]
  },
  {
   "cell_type": "code",
   "execution_count": 457,
   "metadata": {},
   "outputs": [
    {
     "name": "stdout",
     "output_type": "stream",
     "text": [
      "Wall time: 2.49 s\n"
     ]
    },
    {
     "data": {
      "text/plain": [
       "<matplotlib.legend.Legend at 0x29c8ad458e0>"
      ]
     },
     "execution_count": 457,
     "metadata": {},
     "output_type": "execute_result"
    },
    {
     "data": {
      "image/png": "[encoded data removed]",
      "text/plain": [
       "<Figure size 576x576 with 1 Axes>"
      ]
     },
     "metadata": {
      "needs_background": "light"
     },
     "output_type": "display_data"
    }
   ],
   "source": [
    "%%time\n",
    "clusterer = cluster.KMeans(5)\n",
    "clusterer.fit(embedding)\n",
    "\n",
    "ds = np.hstack([keys.reshape(-1,1), embedding, clusterer.labels_.reshape(-1, 1)])\n",
    "df = pd.DataFrame(ds, columns=['key', 'x', 'y', 'cluster'])\n",
    "clusters = df.groupby('cluster')\n",
    "plt.figure(figsize=(8,8))\n",
    "\n",
    "for c, da in clusters:\n",
    "    alpha = 0.5\n",
    "    plt.scatter(*da[['x', 'y']].values.T, label=c, alpha=alpha)\n",
    "plt.legend()"
   ]
  },
  {
   "cell_type": "code",
   "execution_count": 121,
   "metadata": {},
   "outputs": [
    {
     "ename": "NameError",
     "evalue": "name 'MAJOR_CATS' is not defined",
     "output_type": "error",
     "traceback": [
      "\u001b[1;31m---------------------------------------------------------------------------\u001b[0m",
      "\u001b[1;31mNameError\u001b[0m                                 Traceback (most recent call last)",
      "\u001b[1;32m~\\AppData\\Local\\Temp\\ipykernel_52692\\3654016927.py\u001b[0m in \u001b[0;36m<cell line: 1>\u001b[1;34m()\u001b[0m\n\u001b[1;32m----> 1\u001b[1;33m \u001b[0mMAJOR_CATS\u001b[0m\u001b[1;33m\u001b[0m\u001b[1;33m\u001b[0m\u001b[0m\n\u001b[0m",
      "\u001b[1;31mNameError\u001b[0m: name 'MAJOR_CATS' is not defined"
     ]
    }
   ],
   "source": [
    "MAJOR_CATS"
   ]
  },
  {
   "cell_type": "code",
   "execution_count": 454,
   "metadata": {},
   "outputs": [
    {
     "ename": "KeyError",
     "evalue": "'movieId'",
     "output_type": "error",
     "traceback": [
      "\u001b[1;31m---------------------------------------------------------------------------\u001b[0m",
      "\u001b[1;31mKeyError\u001b[0m                                  Traceback (most recent call last)",
      "\u001b[1;32m~\\miniconda3\\lib\\site-packages\\pandas\\core\\indexes\\base.py\u001b[0m in \u001b[0;36mget_loc\u001b[1;34m(self, key, method, tolerance)\u001b[0m\n\u001b[0;32m   3360\u001b[0m             \u001b[1;32mtry\u001b[0m\u001b[1;33m:\u001b[0m\u001b[1;33m\u001b[0m\u001b[1;33m\u001b[0m\u001b[0m\n\u001b[1;32m-> 3361\u001b[1;33m                 \u001b[1;32mreturn\u001b[0m \u001b[0mself\u001b[0m\u001b[1;33m.\u001b[0m\u001b[0m_engine\u001b[0m\u001b[1;33m.\u001b[0m\u001b[0mget_loc\u001b[0m\u001b[1;33m(\u001b[0m\u001b[0mcasted_key\u001b[0m\u001b[1;33m)\u001b[0m\u001b[1;33m\u001b[0m\u001b[1;33m\u001b[0m\u001b[0m\n\u001b[0m\u001b[0;32m   3362\u001b[0m             \u001b[1;32mexcept\u001b[0m \u001b[0mKeyError\u001b[0m \u001b[1;32mas\u001b[0m \u001b[0merr\u001b[0m\u001b[1;33m:\u001b[0m\u001b[1;33m\u001b[0m\u001b[1;33m\u001b[0m\u001b[0m\n",
      "\u001b[1;32m~\\miniconda3\\lib\\site-packages\\pandas\\_libs\\index.pyx\u001b[0m in \u001b[0;36mpandas._libs.index.IndexEngine.get_loc\u001b[1;34m()\u001b[0m\n",
      "\u001b[1;32m~\\miniconda3\\lib\\site-packages\\pandas\\_libs\\index.pyx\u001b[0m in \u001b[0;36mpandas._libs.index.IndexEngine.get_loc\u001b[1;34m()\u001b[0m\n",
      "\u001b[1;32mpandas\\_libs\\hashtable_class_helper.pxi\u001b[0m in \u001b[0;36mpandas._libs.hashtable.PyObjectHashTable.get_item\u001b[1;34m()\u001b[0m\n",
      "\u001b[1;32mpandas\\_libs\\hashtable_class_helper.pxi\u001b[0m in \u001b[0;36mpandas._libs.hashtable.PyObjectHashTable.get_item\u001b[1;34m()\u001b[0m\n",
      "\u001b[1;31mKeyError\u001b[0m: 'movieId'",
      "\nThe above exception was the direct cause of the following exception:\n",
      "\u001b[1;31mKeyError\u001b[0m                                  Traceback (most recent call last)",
      "\u001b[1;32m~\\AppData\\Local\\Temp\\ipykernel_52692\\3577610879.py\u001b[0m in \u001b[0;36m<cell line: 6>\u001b[1;34m()\u001b[0m\n\u001b[0;32m      4\u001b[0m \u001b[0max\u001b[0m \u001b[1;33m=\u001b[0m \u001b[0mplt\u001b[0m\u001b[1;33m.\u001b[0m\u001b[0msubplot\u001b[0m\u001b[1;33m(\u001b[0m\u001b[1;36m151\u001b[0m\u001b[1;33m)\u001b[0m\u001b[1;33m\u001b[0m\u001b[1;33m\u001b[0m\u001b[0m\n\u001b[0;32m      5\u001b[0m \u001b[0mcluster_vals\u001b[0m \u001b[1;33m=\u001b[0m \u001b[0mclusters\u001b[0m\u001b[1;33m.\u001b[0m\u001b[0mget_group\u001b[0m\u001b[1;33m(\u001b[0m\u001b[0mv\u001b[0m\u001b[1;33m)\u001b[0m\u001b[1;33m[\u001b[0m\u001b[1;34m'key'\u001b[0m\u001b[1;33m]\u001b[0m\u001b[1;33m.\u001b[0m\u001b[0mvalues\u001b[0m\u001b[1;33m\u001b[0m\u001b[1;33m\u001b[0m\u001b[0m\n\u001b[1;32m----> 6\u001b[1;33m \u001b[0mgenres_in\u001b[0m \u001b[1;33m=\u001b[0m \u001b[0mmovie_info\u001b[0m\u001b[1;33m.\u001b[0m\u001b[0mloc\u001b[0m\u001b[1;33m[\u001b[0m\u001b[0mmovie_info\u001b[0m\u001b[1;33m[\u001b[0m\u001b[1;34m'movieId'\u001b[0m\u001b[1;33m]\u001b[0m\u001b[1;33m.\u001b[0m\u001b[0misin\u001b[0m\u001b[1;33m(\u001b[0m\u001b[0mcluster_vals\u001b[0m\u001b[1;33m)\u001b[0m\u001b[1;33m]\u001b[0m\u001b[1;33m.\u001b[0m\u001b[0mgenres\u001b[0m\u001b[1;33m.\u001b[0m\u001b[0mvalues\u001b[0m\u001b[1;33m\u001b[0m\u001b[1;33m\u001b[0m\u001b[0m\n\u001b[0m\u001b[0;32m      7\u001b[0m \u001b[0mgenre_hist\u001b[0m\u001b[1;33m(\u001b[0m\u001b[0mgenres_in\u001b[0m\u001b[1;33m,\u001b[0m \u001b[0mv\u001b[0m\u001b[1;33m,\u001b[0m \u001b[0max\u001b[0m\u001b[1;33m)\u001b[0m\u001b[1;33m\u001b[0m\u001b[1;33m\u001b[0m\u001b[0m\n\u001b[0;32m      8\u001b[0m \u001b[1;33m\u001b[0m\u001b[0m\n",
      "\u001b[1;32m~\\miniconda3\\lib\\site-packages\\pandas\\core\\frame.py\u001b[0m in \u001b[0;36m__getitem__\u001b[1;34m(self, key)\u001b[0m\n\u001b[0;32m   3456\u001b[0m             \u001b[1;32mif\u001b[0m \u001b[0mself\u001b[0m\u001b[1;33m.\u001b[0m\u001b[0mcolumns\u001b[0m\u001b[1;33m.\u001b[0m\u001b[0mnlevels\u001b[0m \u001b[1;33m>\u001b[0m \u001b[1;36m1\u001b[0m\u001b[1;33m:\u001b[0m\u001b[1;33m\u001b[0m\u001b[1;33m\u001b[0m\u001b[0m\n\u001b[0;32m   3457\u001b[0m                 \u001b[1;32mreturn\u001b[0m \u001b[0mself\u001b[0m\u001b[1;33m.\u001b[0m\u001b[0m_getitem_multilevel\u001b[0m\u001b[1;33m(\u001b[0m\u001b[0mkey\u001b[0m\u001b[1;33m)\u001b[0m\u001b[1;33m\u001b[0m\u001b[1;33m\u001b[0m\u001b[0m\n\u001b[1;32m-> 3458\u001b[1;33m             \u001b[0mindexer\u001b[0m \u001b[1;33m=\u001b[0m \u001b[0mself\u001b[0m\u001b[1;33m.\u001b[0m\u001b[0mcolumns\u001b[0m\u001b[1;33m.\u001b[0m\u001b[0mget_loc\u001b[0m\u001b[1;33m(\u001b[0m\u001b[0mkey\u001b[0m\u001b[1;33m)\u001b[0m\u001b[1;33m\u001b[0m\u001b[1;33m\u001b[0m\u001b[0m\n\u001b[0m\u001b[0;32m   3459\u001b[0m             \u001b[1;32mif\u001b[0m \u001b[0mis_integer\u001b[0m\u001b[1;33m(\u001b[0m\u001b[0mindexer\u001b[0m\u001b[1;33m)\u001b[0m\u001b[1;33m:\u001b[0m\u001b[1;33m\u001b[0m\u001b[1;33m\u001b[0m\u001b[0m\n\u001b[0;32m   3460\u001b[0m                 \u001b[0mindexer\u001b[0m \u001b[1;33m=\u001b[0m \u001b[1;33m[\u001b[0m\u001b[0mindexer\u001b[0m\u001b[1;33m]\u001b[0m\u001b[1;33m\u001b[0m\u001b[1;33m\u001b[0m\u001b[0m\n",
      "\u001b[1;32m~\\miniconda3\\lib\\site-packages\\pandas\\core\\indexes\\base.py\u001b[0m in \u001b[0;36mget_loc\u001b[1;34m(self, key, method, tolerance)\u001b[0m\n\u001b[0;32m   3361\u001b[0m                 \u001b[1;32mreturn\u001b[0m \u001b[0mself\u001b[0m\u001b[1;33m.\u001b[0m\u001b[0m_engine\u001b[0m\u001b[1;33m.\u001b[0m\u001b[0mget_loc\u001b[0m\u001b[1;33m(\u001b[0m\u001b[0mcasted_key\u001b[0m\u001b[1;33m)\u001b[0m\u001b[1;33m\u001b[0m\u001b[1;33m\u001b[0m\u001b[0m\n\u001b[0;32m   3362\u001b[0m             \u001b[1;32mexcept\u001b[0m \u001b[0mKeyError\u001b[0m \u001b[1;32mas\u001b[0m \u001b[0merr\u001b[0m\u001b[1;33m:\u001b[0m\u001b[1;33m\u001b[0m\u001b[1;33m\u001b[0m\u001b[0m\n\u001b[1;32m-> 3363\u001b[1;33m                 \u001b[1;32mraise\u001b[0m \u001b[0mKeyError\u001b[0m\u001b[1;33m(\u001b[0m\u001b[0mkey\u001b[0m\u001b[1;33m)\u001b[0m \u001b[1;32mfrom\u001b[0m \u001b[0merr\u001b[0m\u001b[1;33m\u001b[0m\u001b[1;33m\u001b[0m\u001b[0m\n\u001b[0m\u001b[0;32m   3364\u001b[0m \u001b[1;33m\u001b[0m\u001b[0m\n\u001b[0;32m   3365\u001b[0m         \u001b[1;32mif\u001b[0m \u001b[0mis_scalar\u001b[0m\u001b[1;33m(\u001b[0m\u001b[0mkey\u001b[0m\u001b[1;33m)\u001b[0m \u001b[1;32mand\u001b[0m \u001b[0misna\u001b[0m\u001b[1;33m(\u001b[0m\u001b[0mkey\u001b[0m\u001b[1;33m)\u001b[0m \u001b[1;32mand\u001b[0m \u001b[1;32mnot\u001b[0m \u001b[0mself\u001b[0m\u001b[1;33m.\u001b[0m\u001b[0mhasnans\u001b[0m\u001b[1;33m:\u001b[0m\u001b[1;33m\u001b[0m\u001b[1;33m\u001b[0m\u001b[0m\n",
      "\u001b[1;31mKeyError\u001b[0m: 'movieId'"
     ]
    },
    {
     "data": {
      "image/png": "[encoded data removed]",
      "text/plain": [
       "<Figure size 1440x360 with 1 Axes>"
      ]
     },
     "metadata": {
      "needs_background": "light"
     },
     "output_type": "display_data"
    }
   ],
   "source": [
    "plt.figure(figsize=(20,5))\n",
    "\n",
    "v = 0.0\n",
    "ax = plt.subplot(151)\n",
    "cluster_vals = clusters.get_group(v)['key'].values\n",
    "genres_in = movie_info.loc[movie_info['movieId'].isin(cluster_vals)].genres.values\n",
    "genre_hist(genres_in, v, ax)\n",
    "\n",
    "v = 1.0\n",
    "ax = plt.subplot(152)\n",
    "cluster_vals = clusters.get_group(v)['key'].values\n",
    "genres_in = movie_info.loc[movie_info['movieId'].isin(cluster_vals)].genres.values\n",
    "genre_hist(genres_in, v, ax)\n",
    "\n",
    "v = 2.0\n",
    "ax = plt.subplot(153)\n",
    "cluster_vals = clusters.get_group(v)['key'].values\n",
    "genres_in = movie_info.loc[movie_info['movieId'].isin(cluster_vals)].genres.values\n",
    "genre_hist(genres_in, v, ax)\n",
    "\n",
    "v = 3.0\n",
    "ax = plt.subplot(154)\n",
    "cluster_vals = clusters.get_group(v)['key'].values\n",
    "genres_in = movie_info.loc[movie_info['movieId'].isin(cluster_vals)].genres.values\n",
    "genre_hist(genres_in, v, ax)\n",
    "\n",
    "v = 4.0\n",
    "ax = plt.subplot(155)\n",
    "cluster_vals = clusters.get_group(v)['key'].values\n",
    "genres_in = movie_info.loc[movie_info['movieId'].isin(cluster_vals)].genres.values\n",
    "genre_hist(genres_in, v, ax)"
   ]
  },
  {
   "cell_type": "markdown",
   "metadata": {},
   "source": [
    "## Look at some steps in the filtration "
   ]
  },
  {
   "cell_type": "code",
   "execution_count": 372,
   "metadata": {
    "scrolled": false
   },
   "outputs": [
    {
     "ename": "NetworkXError",
     "evalue": "Node 112 has no position.",
     "output_type": "error",
     "traceback": [
      "\u001b[1;31m---------------------------------------------------------------------------\u001b[0m",
      "\u001b[1;31mKeyError\u001b[0m                                  Traceback (most recent call last)",
      "\u001b[1;32m~\\miniconda3\\lib\\site-packages\\networkx\\drawing\\nx_pylab.py\u001b[0m in \u001b[0;36mdraw_networkx_nodes\u001b[1;34m(G, pos, nodelist, node_size, node_color, node_shape, alpha, cmap, vmin, vmax, ax, linewidths, edgecolors, label, margins)\u001b[0m\n\u001b[0;32m    453\u001b[0m     \u001b[1;32mtry\u001b[0m\u001b[1;33m:\u001b[0m\u001b[1;33m\u001b[0m\u001b[1;33m\u001b[0m\u001b[0m\n\u001b[1;32m--> 454\u001b[1;33m         \u001b[0mxy\u001b[0m \u001b[1;33m=\u001b[0m \u001b[0mnp\u001b[0m\u001b[1;33m.\u001b[0m\u001b[0masarray\u001b[0m\u001b[1;33m(\u001b[0m\u001b[1;33m[\u001b[0m\u001b[0mpos\u001b[0m\u001b[1;33m[\u001b[0m\u001b[0mv\u001b[0m\u001b[1;33m]\u001b[0m \u001b[1;32mfor\u001b[0m \u001b[0mv\u001b[0m \u001b[1;32min\u001b[0m \u001b[0mnodelist\u001b[0m\u001b[1;33m]\u001b[0m\u001b[1;33m)\u001b[0m\u001b[1;33m\u001b[0m\u001b[1;33m\u001b[0m\u001b[0m\n\u001b[0m\u001b[0;32m    455\u001b[0m     \u001b[1;32mexcept\u001b[0m \u001b[0mKeyError\u001b[0m \u001b[1;32mas\u001b[0m \u001b[0merr\u001b[0m\u001b[1;33m:\u001b[0m\u001b[1;33m\u001b[0m\u001b[1;33m\u001b[0m\u001b[0m\n",
      "\u001b[1;32m~\\miniconda3\\lib\\site-packages\\networkx\\drawing\\nx_pylab.py\u001b[0m in \u001b[0;36m<listcomp>\u001b[1;34m(.0)\u001b[0m\n\u001b[0;32m    453\u001b[0m     \u001b[1;32mtry\u001b[0m\u001b[1;33m:\u001b[0m\u001b[1;33m\u001b[0m\u001b[1;33m\u001b[0m\u001b[0m\n\u001b[1;32m--> 454\u001b[1;33m         \u001b[0mxy\u001b[0m \u001b[1;33m=\u001b[0m \u001b[0mnp\u001b[0m\u001b[1;33m.\u001b[0m\u001b[0masarray\u001b[0m\u001b[1;33m(\u001b[0m\u001b[1;33m[\u001b[0m\u001b[0mpos\u001b[0m\u001b[1;33m[\u001b[0m\u001b[0mv\u001b[0m\u001b[1;33m]\u001b[0m \u001b[1;32mfor\u001b[0m \u001b[0mv\u001b[0m \u001b[1;32min\u001b[0m \u001b[0mnodelist\u001b[0m\u001b[1;33m]\u001b[0m\u001b[1;33m)\u001b[0m\u001b[1;33m\u001b[0m\u001b[1;33m\u001b[0m\u001b[0m\n\u001b[0m\u001b[0;32m    455\u001b[0m     \u001b[1;32mexcept\u001b[0m \u001b[0mKeyError\u001b[0m \u001b[1;32mas\u001b[0m \u001b[0merr\u001b[0m\u001b[1;33m:\u001b[0m\u001b[1;33m\u001b[0m\u001b[1;33m\u001b[0m\u001b[0m\n",
      "\u001b[1;31mKeyError\u001b[0m: 112",
      "\nThe above exception was the direct cause of the following exception:\n",
      "\u001b[1;31mNetworkXError\u001b[0m                             Traceback (most recent call last)",
      "\u001b[1;32m~\\AppData\\Local\\Temp\\ipykernel_52692\\3567554483.py\u001b[0m in \u001b[0;36m<cell line: 12>\u001b[1;34m()\u001b[0m\n\u001b[0;32m     10\u001b[0m     \u001b[0mplt\u001b[0m\u001b[1;33m.\u001b[0m\u001b[0mshow\u001b[0m\u001b[1;33m(\u001b[0m\u001b[1;33m)\u001b[0m\u001b[1;33m\u001b[0m\u001b[1;33m\u001b[0m\u001b[0m\n\u001b[0;32m     11\u001b[0m \u001b[1;33m\u001b[0m\u001b[0m\n\u001b[1;32m---> 12\u001b[1;33m \u001b[0mfilter_plot\u001b[0m\u001b[1;33m(\u001b[0m\u001b[0mfiltration\u001b[0m\u001b[1;33m,\u001b[0m \u001b[1;36m0.90\u001b[0m\u001b[1;33m,\u001b[0m \u001b[0mpos\u001b[0m\u001b[1;33m)\u001b[0m\u001b[1;33m\u001b[0m\u001b[1;33m\u001b[0m\u001b[0m\n\u001b[0m\u001b[0;32m     13\u001b[0m \u001b[0mfilter_plot\u001b[0m\u001b[1;33m(\u001b[0m\u001b[0mfiltration\u001b[0m\u001b[1;33m,\u001b[0m \u001b[1;36m0.95\u001b[0m\u001b[1;33m,\u001b[0m \u001b[0mpos\u001b[0m\u001b[1;33m)\u001b[0m\u001b[1;33m\u001b[0m\u001b[1;33m\u001b[0m\u001b[0m\n\u001b[0;32m     14\u001b[0m \u001b[0mfilter_plot\u001b[0m\u001b[1;33m(\u001b[0m\u001b[0mfiltration\u001b[0m\u001b[1;33m,\u001b[0m \u001b[1;36m0.98\u001b[0m\u001b[1;33m,\u001b[0m \u001b[0mpos\u001b[0m\u001b[1;33m)\u001b[0m\u001b[1;33m\u001b[0m\u001b[1;33m\u001b[0m\u001b[0m\n",
      "\u001b[1;32m~\\AppData\\Local\\Temp\\ipykernel_52692\\3567554483.py\u001b[0m in \u001b[0;36mfilter_plot\u001b[1;34m(filtration, thresh, pos)\u001b[0m\n\u001b[0;32m      7\u001b[0m     \u001b[0medges\u001b[0m \u001b[1;33m=\u001b[0m \u001b[0mg\u001b[0m\u001b[1;33m.\u001b[0m\u001b[0medges\u001b[0m\u001b[1;33m(\u001b[0m\u001b[1;33m)\u001b[0m\u001b[1;33m\u001b[0m\u001b[1;33m\u001b[0m\u001b[0m\n\u001b[0;32m      8\u001b[0m     \u001b[0mweights\u001b[0m \u001b[1;33m=\u001b[0m \u001b[1;33m[\u001b[0m\u001b[0mg\u001b[0m\u001b[1;33m[\u001b[0m\u001b[0mu\u001b[0m\u001b[1;33m]\u001b[0m\u001b[1;33m[\u001b[0m\u001b[0mv\u001b[0m\u001b[1;33m]\u001b[0m\u001b[1;33m[\u001b[0m\u001b[1;34m'dist'\u001b[0m\u001b[1;33m]\u001b[0m \u001b[1;32mfor\u001b[0m \u001b[0mu\u001b[0m\u001b[1;33m,\u001b[0m\u001b[0mv\u001b[0m \u001b[1;32min\u001b[0m \u001b[0medges\u001b[0m\u001b[1;33m]\u001b[0m\u001b[1;33m\u001b[0m\u001b[1;33m\u001b[0m\u001b[0m\n\u001b[1;32m----> 9\u001b[1;33m     \u001b[0mnx\u001b[0m\u001b[1;33m.\u001b[0m\u001b[0mdraw\u001b[0m\u001b[1;33m(\u001b[0m\u001b[0mg\u001b[0m\u001b[1;33m,\u001b[0m \u001b[0mpos\u001b[0m\u001b[1;33m=\u001b[0m\u001b[0mpos\u001b[0m\u001b[1;33m,\u001b[0m \u001b[0mnode_size\u001b[0m\u001b[1;33m=\u001b[0m\u001b[1;36m20\u001b[0m\u001b[1;33m,\u001b[0m \u001b[0malpha\u001b[0m\u001b[1;33m=\u001b[0m\u001b[1;36m0.2\u001b[0m\u001b[1;33m)\u001b[0m\u001b[1;33m\u001b[0m\u001b[1;33m\u001b[0m\u001b[0m\n\u001b[0m\u001b[0;32m     10\u001b[0m     \u001b[0mplt\u001b[0m\u001b[1;33m.\u001b[0m\u001b[0mshow\u001b[0m\u001b[1;33m(\u001b[0m\u001b[1;33m)\u001b[0m\u001b[1;33m\u001b[0m\u001b[1;33m\u001b[0m\u001b[0m\n\u001b[0;32m     11\u001b[0m \u001b[1;33m\u001b[0m\u001b[0m\n",
      "\u001b[1;32m~\\miniconda3\\lib\\site-packages\\networkx\\drawing\\nx_pylab.py\u001b[0m in \u001b[0;36mdraw\u001b[1;34m(G, pos, ax, **kwds)\u001b[0m\n\u001b[0;32m    118\u001b[0m         \u001b[0mkwds\u001b[0m\u001b[1;33m[\u001b[0m\u001b[1;34m\"with_labels\"\u001b[0m\u001b[1;33m]\u001b[0m \u001b[1;33m=\u001b[0m \u001b[1;34m\"labels\"\u001b[0m \u001b[1;32min\u001b[0m \u001b[0mkwds\u001b[0m\u001b[1;33m\u001b[0m\u001b[1;33m\u001b[0m\u001b[0m\n\u001b[0;32m    119\u001b[0m \u001b[1;33m\u001b[0m\u001b[0m\n\u001b[1;32m--> 120\u001b[1;33m     \u001b[0mdraw_networkx\u001b[0m\u001b[1;33m(\u001b[0m\u001b[0mG\u001b[0m\u001b[1;33m,\u001b[0m \u001b[0mpos\u001b[0m\u001b[1;33m=\u001b[0m\u001b[0mpos\u001b[0m\u001b[1;33m,\u001b[0m \u001b[0max\u001b[0m\u001b[1;33m=\u001b[0m\u001b[0max\u001b[0m\u001b[1;33m,\u001b[0m \u001b[1;33m**\u001b[0m\u001b[0mkwds\u001b[0m\u001b[1;33m)\u001b[0m\u001b[1;33m\u001b[0m\u001b[1;33m\u001b[0m\u001b[0m\n\u001b[0m\u001b[0;32m    121\u001b[0m     \u001b[0max\u001b[0m\u001b[1;33m.\u001b[0m\u001b[0mset_axis_off\u001b[0m\u001b[1;33m(\u001b[0m\u001b[1;33m)\u001b[0m\u001b[1;33m\u001b[0m\u001b[1;33m\u001b[0m\u001b[0m\n\u001b[0;32m    122\u001b[0m     \u001b[0mplt\u001b[0m\u001b[1;33m.\u001b[0m\u001b[0mdraw_if_interactive\u001b[0m\u001b[1;33m(\u001b[0m\u001b[1;33m)\u001b[0m\u001b[1;33m\u001b[0m\u001b[1;33m\u001b[0m\u001b[0m\n",
      "\u001b[1;32m~\\miniconda3\\lib\\site-packages\\networkx\\drawing\\nx_pylab.py\u001b[0m in \u001b[0;36mdraw_networkx\u001b[1;34m(G, pos, arrows, with_labels, **kwds)\u001b[0m\n\u001b[0;32m    331\u001b[0m         \u001b[0mpos\u001b[0m \u001b[1;33m=\u001b[0m \u001b[0mnx\u001b[0m\u001b[1;33m.\u001b[0m\u001b[0mdrawing\u001b[0m\u001b[1;33m.\u001b[0m\u001b[0mspring_layout\u001b[0m\u001b[1;33m(\u001b[0m\u001b[0mG\u001b[0m\u001b[1;33m)\u001b[0m  \u001b[1;31m# default to spring layout\u001b[0m\u001b[1;33m\u001b[0m\u001b[1;33m\u001b[0m\u001b[0m\n\u001b[0;32m    332\u001b[0m \u001b[1;33m\u001b[0m\u001b[0m\n\u001b[1;32m--> 333\u001b[1;33m     \u001b[0mdraw_networkx_nodes\u001b[0m\u001b[1;33m(\u001b[0m\u001b[0mG\u001b[0m\u001b[1;33m,\u001b[0m \u001b[0mpos\u001b[0m\u001b[1;33m,\u001b[0m \u001b[1;33m**\u001b[0m\u001b[0mnode_kwds\u001b[0m\u001b[1;33m)\u001b[0m\u001b[1;33m\u001b[0m\u001b[1;33m\u001b[0m\u001b[0m\n\u001b[0m\u001b[0;32m    334\u001b[0m     \u001b[0mdraw_networkx_edges\u001b[0m\u001b[1;33m(\u001b[0m\u001b[0mG\u001b[0m\u001b[1;33m,\u001b[0m \u001b[0mpos\u001b[0m\u001b[1;33m,\u001b[0m \u001b[0marrows\u001b[0m\u001b[1;33m=\u001b[0m\u001b[0marrows\u001b[0m\u001b[1;33m,\u001b[0m \u001b[1;33m**\u001b[0m\u001b[0medge_kwds\u001b[0m\u001b[1;33m)\u001b[0m\u001b[1;33m\u001b[0m\u001b[1;33m\u001b[0m\u001b[0m\n\u001b[0;32m    335\u001b[0m     \u001b[1;32mif\u001b[0m \u001b[0mwith_labels\u001b[0m\u001b[1;33m:\u001b[0m\u001b[1;33m\u001b[0m\u001b[1;33m\u001b[0m\u001b[0m\n",
      "\u001b[1;32m~\\miniconda3\\lib\\site-packages\\networkx\\drawing\\nx_pylab.py\u001b[0m in \u001b[0;36mdraw_networkx_nodes\u001b[1;34m(G, pos, nodelist, node_size, node_color, node_shape, alpha, cmap, vmin, vmax, ax, linewidths, edgecolors, label, margins)\u001b[0m\n\u001b[0;32m    454\u001b[0m         \u001b[0mxy\u001b[0m \u001b[1;33m=\u001b[0m \u001b[0mnp\u001b[0m\u001b[1;33m.\u001b[0m\u001b[0masarray\u001b[0m\u001b[1;33m(\u001b[0m\u001b[1;33m[\u001b[0m\u001b[0mpos\u001b[0m\u001b[1;33m[\u001b[0m\u001b[0mv\u001b[0m\u001b[1;33m]\u001b[0m \u001b[1;32mfor\u001b[0m \u001b[0mv\u001b[0m \u001b[1;32min\u001b[0m \u001b[0mnodelist\u001b[0m\u001b[1;33m]\u001b[0m\u001b[1;33m)\u001b[0m\u001b[1;33m\u001b[0m\u001b[1;33m\u001b[0m\u001b[0m\n\u001b[0;32m    455\u001b[0m     \u001b[1;32mexcept\u001b[0m \u001b[0mKeyError\u001b[0m \u001b[1;32mas\u001b[0m \u001b[0merr\u001b[0m\u001b[1;33m:\u001b[0m\u001b[1;33m\u001b[0m\u001b[1;33m\u001b[0m\u001b[0m\n\u001b[1;32m--> 456\u001b[1;33m         \u001b[1;32mraise\u001b[0m \u001b[0mnx\u001b[0m\u001b[1;33m.\u001b[0m\u001b[0mNetworkXError\u001b[0m\u001b[1;33m(\u001b[0m\u001b[1;34mf\"Node {err} has no position.\"\u001b[0m\u001b[1;33m)\u001b[0m \u001b[1;32mfrom\u001b[0m \u001b[0merr\u001b[0m\u001b[1;33m\u001b[0m\u001b[1;33m\u001b[0m\u001b[0m\n\u001b[0m\u001b[0;32m    457\u001b[0m \u001b[1;33m\u001b[0m\u001b[0m\n\u001b[0;32m    458\u001b[0m     \u001b[1;32mif\u001b[0m \u001b[0misinstance\u001b[0m\u001b[1;33m(\u001b[0m\u001b[0malpha\u001b[0m\u001b[1;33m,\u001b[0m \u001b[0mIterable\u001b[0m\u001b[1;33m)\u001b[0m\u001b[1;33m:\u001b[0m\u001b[1;33m\u001b[0m\u001b[1;33m\u001b[0m\u001b[0m\n",
      "\u001b[1;31mNetworkXError\u001b[0m: Node 112 has no position."
     ]
    },
    {
     "data": {
      "image/png": "[encoded data removed]",
      "text/plain": [
       "<Figure size 576x576 with 1 Axes>"
      ]
     },
     "metadata": {},
     "output_type": "display_data"
    }
   ],
   "source": [
    "def filter_plot(filtration, thresh, pos=None):\n",
    "    pos = pos or nx.kamada_kawai_layout()\n",
    "    filtration = [f for f in filtration if f[1] < thresh]\n",
    "    g = build_graph(filtration, thresh)\n",
    "    \n",
    "    plt.figure(figsize=(8,8))\n",
    "    edges = g.edges()\n",
    "    weights = [g[u][v]['dist'] for u,v in edges]\n",
    "    nx.draw(g, pos=pos, node_size=20, alpha=0.2)\n",
    "    plt.show()\n",
    "\n",
    "filter_plot(filtration, 0.90, pos)\n",
    "filter_plot(filtration, 0.95, pos)\n",
    "filter_plot(filtration, 0.98, pos)"
   ]
  },
  {
   "cell_type": "code",
   "execution_count": 375,
   "metadata": {},
   "outputs": [
    {
     "data": {
      "text/plain": [
       "175176"
      ]
     },
     "execution_count": 375,
     "metadata": {},
     "output_type": "execute_result"
    }
   ],
   "source": [
    "g.size()"
   ]
  },
  {
   "cell_type": "code",
   "execution_count": null,
   "metadata": {},
   "outputs": [],
   "source": []
  }
 ],
 "metadata": {
  "kernelspec": {
   "display_name": "Python 3 (ipykernel)",
   "language": "python",
   "name": "python3"
  },
  "language_info": {
   "codemirror_mode": {
    "name": "ipython",
    "version": 3
   },
   "file_extension": ".py",
   "mimetype": "text/x-python",
   "name": "python",
   "nbconvert_exporter": "python",
   "pygments_lexer": "ipython3",
   "version": "3.9.7"
  }
 },
 "nbformat": 4,
 "nbformat_minor": 2
}
